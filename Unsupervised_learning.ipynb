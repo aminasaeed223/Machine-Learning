{
  "nbformat": 4,
  "nbformat_minor": 0,
  "metadata": {
    "colab": {
      "name": "Unsupervised learning.ipynb",
      "provenance": [],
      "toc_visible": true,
      "authorship_tag": "ABX9TyPQ38uStaIdotiv3HFNA9y5",
      "include_colab_link": true
    },
    "kernelspec": {
      "name": "python3",
      "display_name": "Python 3"
    },
    "language_info": {
      "name": "python"
    }
  },
  "cells": [
    {
      "cell_type": "markdown",
      "metadata": {
        "id": "view-in-github",
        "colab_type": "text"
      },
      "source": [
        "<a href=\"https://colab.research.google.com/github/dr-mushtaq/Machine-Learning/blob/master/Unsupervised_learning.ipynb\" target=\"_parent\"><img src=\"https://colab.research.google.com/assets/colab-badge.svg\" alt=\"Open In Colab\"/></a>"
      ]
    },
    {
      "cell_type": "markdown",
      "source": [
        "# **Introduction**"
      ],
      "metadata": {
        "id": "Ht2rQVTBoJPR"
      }
    },
    {
      "cell_type": "markdown",
      "source": [
        "nsupervised machine learning algorithms, such as clusters analysis or clustering, group unlabeled datasets.[1]"
      ],
      "metadata": {
        "id": "gApO-NUToUYm"
      }
    },
    {
      "cell_type": "markdown",
      "source": [
        "#<p style=\"font-family:JetBrains Mono; font-weight:normal; letter-spacing: 1px; color:#207d06; font-size:100%; text-align:left;padding: 0px; border-bottom: 3px solid #207d06;\">**Chapter:1: Partitioning methods**</p>"
      ],
      "metadata": {
        "id": "RWjhDETQLw0t"
      }
    },
    {
      "cell_type": "markdown",
      "source": [
        "## **Kmean Clustering**"
      ],
      "metadata": {
        "id": "dXSAfTV0oW_J"
      }
    },
    {
      "cell_type": "markdown",
      "source": [
        "Clustering is the process of combining data points in a dataset so that there is a high level of similarity between clusters and a low level of similarity between clusters. Clustering, in its most basic form, is the process of forming subsets or groups from a dataset made up of data points that are really similar to one another and which can be differentiated from each other significantly.[1]\n"
      ],
      "metadata": {
        "id": "n_9XxRGrogUk"
      }
    },
    {
      "cell_type": "markdown",
      "source": [
        "**Why Clustering?**"
      ],
      "metadata": {
        "id": "fmDmm6UtooQv"
      }
    },
    {
      "cell_type": "markdown",
      "source": [
        "Consider a dataset about which we know nothing. The result of a clustering algorithm is that it can find groups of objects whose average distance between members or data points is smaller than the distance between members or data points in other clusters[1]"
      ],
      "metadata": {
        "id": "BKZRu91loxPQ"
      }
    },
    {
      "cell_type": "markdown",
      "source": [
        "**Application of Clusteriing**"
      ],
      "metadata": {
        "id": "oyc_waEbpKR_"
      }
    },
    {
      "cell_type": "markdown",
      "source": [
        "Here are a few real-life examples of how clustering can be applied:[1]\n",
        "- Customer segmentation: The process of identifying a group of customers with similar behaviour given a large dataset.\n",
        "- In a network traffic classification, the characteristics of the traffic sources are grouped together. Using clusters, it is easy to classify traffic types.\n",
        "-Email Filter: This filter divides the data into three sections and then classifies them accordingly."
      ],
      "metadata": {
        "id": "0uWMgB_5pPlw"
      }
    },
    {
      "cell_type": "markdown",
      "source": [
        "## **K means clustering**"
      ],
      "metadata": {
        "id": "8PSOC-AtpgZR"
      }
    },
    {
      "cell_type": "markdown",
      "source": [
        "This algorithm identifies clusters of a given data set based on a certain number of predetermined groupings or “K” groups[1].\n",
        "\n",
        "The k-means clustering algorithm is used to group unlabelled data into different clusters or subgroups using an unsupervised approach. Surely you must be wondering what the works ‘k’ and ‘means’ in the k-means clustering mean?[1]\n",
        "\n",
        "To put a stop to all your guesses here, the term ‘k’ stands for the number of clusters that can be created in the process of clustering. For instance, k = 2, we’ll have two clusters, whereas when k=3, we’ll have three clusters, and so on. Due to the fact that k-means clustering uses centroid-based algorithm, the “means” of each cluster is determined by the centroid of the data points. In the working explanation of k-means you will learn about the concept of centroid based algorithm[1]"
      ],
      "metadata": {
        "id": "2_xkfODDpz3_"
      }
    },
    {
      "cell_type": "markdown",
      "source": [
        "### **Import necessary libraries**"
      ],
      "metadata": {
        "id": "gNovpUHwMqsb"
      }
    },
    {
      "cell_type": "code",
      "source": [
        "from sklearn.datasets import load_iris\n",
        "from sklearn.cluster import KMeans\n",
        "import matplotlib.pyplot as plt"
      ],
      "metadata": {
        "id": "rqFhR48i1_3q"
      },
      "execution_count": 3,
      "outputs": []
    },
    {
      "cell_type": "markdown",
      "source": [
        "### **Data Loading**"
      ],
      "metadata": {
        "id": "UeVUz15xxXAH"
      }
    },
    {
      "cell_type": "code",
      "source": [
        "iris = load_iris()\n",
        "X = iris.data  # features: sepal length, sepal width, petal length, petal width"
      ],
      "metadata": {
        "id": "g9slnFD7xTK3"
      },
      "execution_count": 4,
      "outputs": []
    },
    {
      "cell_type": "code",
      "source": [
        "import pandas as pd\n",
        "Train_data = pd.read_csv('/content/drive/MyDrive/Datasets/Student field Recommendation /Placement_Data_Full_Class.csv',encoding = 'latin')"
      ],
      "metadata": {
        "id": "v9uzhS-nxpRI"
      },
      "execution_count": null,
      "outputs": []
    },
    {
      "cell_type": "markdown",
      "source": [
        "### **Model Training**"
      ],
      "metadata": {
        "id": "9QcXyTITVvGV"
      }
    },
    {
      "cell_type": "markdown",
      "source": [
        "**Step 2: Create and fit the KMeans model with 3 clusters**"
      ],
      "metadata": {
        "id": "6DFc4v3ENPRN"
      }
    },
    {
      "cell_type": "code",
      "source": [
        "\n",
        "kmeans = KMeans(n_clusters=3, random_state=42)\n",
        "kmeans.fit(X)"
      ],
      "metadata": {
        "id": "_b_PaRQgx3jO",
        "colab": {
          "base_uri": "https://localhost:8080/",
          "height": 80
        },
        "outputId": "d03593f0-c2de-4c69-e58c-b67391b3ca9c"
      },
      "execution_count": 7,
      "outputs": [
        {
          "output_type": "execute_result",
          "data": {
            "text/plain": [
              "KMeans(n_clusters=3, random_state=42)"
            ],
            "text/html": [
              "<style>#sk-container-id-1 {\n",
              "  /* Definition of color scheme common for light and dark mode */\n",
              "  --sklearn-color-text: #000;\n",
              "  --sklearn-color-text-muted: #666;\n",
              "  --sklearn-color-line: gray;\n",
              "  /* Definition of color scheme for unfitted estimators */\n",
              "  --sklearn-color-unfitted-level-0: #fff5e6;\n",
              "  --sklearn-color-unfitted-level-1: #f6e4d2;\n",
              "  --sklearn-color-unfitted-level-2: #ffe0b3;\n",
              "  --sklearn-color-unfitted-level-3: chocolate;\n",
              "  /* Definition of color scheme for fitted estimators */\n",
              "  --sklearn-color-fitted-level-0: #f0f8ff;\n",
              "  --sklearn-color-fitted-level-1: #d4ebff;\n",
              "  --sklearn-color-fitted-level-2: #b3dbfd;\n",
              "  --sklearn-color-fitted-level-3: cornflowerblue;\n",
              "\n",
              "  /* Specific color for light theme */\n",
              "  --sklearn-color-text-on-default-background: var(--sg-text-color, var(--theme-code-foreground, var(--jp-content-font-color1, black)));\n",
              "  --sklearn-color-background: var(--sg-background-color, var(--theme-background, var(--jp-layout-color0, white)));\n",
              "  --sklearn-color-border-box: var(--sg-text-color, var(--theme-code-foreground, var(--jp-content-font-color1, black)));\n",
              "  --sklearn-color-icon: #696969;\n",
              "\n",
              "  @media (prefers-color-scheme: dark) {\n",
              "    /* Redefinition of color scheme for dark theme */\n",
              "    --sklearn-color-text-on-default-background: var(--sg-text-color, var(--theme-code-foreground, var(--jp-content-font-color1, white)));\n",
              "    --sklearn-color-background: var(--sg-background-color, var(--theme-background, var(--jp-layout-color0, #111)));\n",
              "    --sklearn-color-border-box: var(--sg-text-color, var(--theme-code-foreground, var(--jp-content-font-color1, white)));\n",
              "    --sklearn-color-icon: #878787;\n",
              "  }\n",
              "}\n",
              "\n",
              "#sk-container-id-1 {\n",
              "  color: var(--sklearn-color-text);\n",
              "}\n",
              "\n",
              "#sk-container-id-1 pre {\n",
              "  padding: 0;\n",
              "}\n",
              "\n",
              "#sk-container-id-1 input.sk-hidden--visually {\n",
              "  border: 0;\n",
              "  clip: rect(1px 1px 1px 1px);\n",
              "  clip: rect(1px, 1px, 1px, 1px);\n",
              "  height: 1px;\n",
              "  margin: -1px;\n",
              "  overflow: hidden;\n",
              "  padding: 0;\n",
              "  position: absolute;\n",
              "  width: 1px;\n",
              "}\n",
              "\n",
              "#sk-container-id-1 div.sk-dashed-wrapped {\n",
              "  border: 1px dashed var(--sklearn-color-line);\n",
              "  margin: 0 0.4em 0.5em 0.4em;\n",
              "  box-sizing: border-box;\n",
              "  padding-bottom: 0.4em;\n",
              "  background-color: var(--sklearn-color-background);\n",
              "}\n",
              "\n",
              "#sk-container-id-1 div.sk-container {\n",
              "  /* jupyter's `normalize.less` sets `[hidden] { display: none; }`\n",
              "     but bootstrap.min.css set `[hidden] { display: none !important; }`\n",
              "     so we also need the `!important` here to be able to override the\n",
              "     default hidden behavior on the sphinx rendered scikit-learn.org.\n",
              "     See: https://github.com/scikit-learn/scikit-learn/issues/21755 */\n",
              "  display: inline-block !important;\n",
              "  position: relative;\n",
              "}\n",
              "\n",
              "#sk-container-id-1 div.sk-text-repr-fallback {\n",
              "  display: none;\n",
              "}\n",
              "\n",
              "div.sk-parallel-item,\n",
              "div.sk-serial,\n",
              "div.sk-item {\n",
              "  /* draw centered vertical line to link estimators */\n",
              "  background-image: linear-gradient(var(--sklearn-color-text-on-default-background), var(--sklearn-color-text-on-default-background));\n",
              "  background-size: 2px 100%;\n",
              "  background-repeat: no-repeat;\n",
              "  background-position: center center;\n",
              "}\n",
              "\n",
              "/* Parallel-specific style estimator block */\n",
              "\n",
              "#sk-container-id-1 div.sk-parallel-item::after {\n",
              "  content: \"\";\n",
              "  width: 100%;\n",
              "  border-bottom: 2px solid var(--sklearn-color-text-on-default-background);\n",
              "  flex-grow: 1;\n",
              "}\n",
              "\n",
              "#sk-container-id-1 div.sk-parallel {\n",
              "  display: flex;\n",
              "  align-items: stretch;\n",
              "  justify-content: center;\n",
              "  background-color: var(--sklearn-color-background);\n",
              "  position: relative;\n",
              "}\n",
              "\n",
              "#sk-container-id-1 div.sk-parallel-item {\n",
              "  display: flex;\n",
              "  flex-direction: column;\n",
              "}\n",
              "\n",
              "#sk-container-id-1 div.sk-parallel-item:first-child::after {\n",
              "  align-self: flex-end;\n",
              "  width: 50%;\n",
              "}\n",
              "\n",
              "#sk-container-id-1 div.sk-parallel-item:last-child::after {\n",
              "  align-self: flex-start;\n",
              "  width: 50%;\n",
              "}\n",
              "\n",
              "#sk-container-id-1 div.sk-parallel-item:only-child::after {\n",
              "  width: 0;\n",
              "}\n",
              "\n",
              "/* Serial-specific style estimator block */\n",
              "\n",
              "#sk-container-id-1 div.sk-serial {\n",
              "  display: flex;\n",
              "  flex-direction: column;\n",
              "  align-items: center;\n",
              "  background-color: var(--sklearn-color-background);\n",
              "  padding-right: 1em;\n",
              "  padding-left: 1em;\n",
              "}\n",
              "\n",
              "\n",
              "/* Toggleable style: style used for estimator/Pipeline/ColumnTransformer box that is\n",
              "clickable and can be expanded/collapsed.\n",
              "- Pipeline and ColumnTransformer use this feature and define the default style\n",
              "- Estimators will overwrite some part of the style using the `sk-estimator` class\n",
              "*/\n",
              "\n",
              "/* Pipeline and ColumnTransformer style (default) */\n",
              "\n",
              "#sk-container-id-1 div.sk-toggleable {\n",
              "  /* Default theme specific background. It is overwritten whether we have a\n",
              "  specific estimator or a Pipeline/ColumnTransformer */\n",
              "  background-color: var(--sklearn-color-background);\n",
              "}\n",
              "\n",
              "/* Toggleable label */\n",
              "#sk-container-id-1 label.sk-toggleable__label {\n",
              "  cursor: pointer;\n",
              "  display: flex;\n",
              "  width: 100%;\n",
              "  margin-bottom: 0;\n",
              "  padding: 0.5em;\n",
              "  box-sizing: border-box;\n",
              "  text-align: center;\n",
              "  align-items: start;\n",
              "  justify-content: space-between;\n",
              "  gap: 0.5em;\n",
              "}\n",
              "\n",
              "#sk-container-id-1 label.sk-toggleable__label .caption {\n",
              "  font-size: 0.6rem;\n",
              "  font-weight: lighter;\n",
              "  color: var(--sklearn-color-text-muted);\n",
              "}\n",
              "\n",
              "#sk-container-id-1 label.sk-toggleable__label-arrow:before {\n",
              "  /* Arrow on the left of the label */\n",
              "  content: \"▸\";\n",
              "  float: left;\n",
              "  margin-right: 0.25em;\n",
              "  color: var(--sklearn-color-icon);\n",
              "}\n",
              "\n",
              "#sk-container-id-1 label.sk-toggleable__label-arrow:hover:before {\n",
              "  color: var(--sklearn-color-text);\n",
              "}\n",
              "\n",
              "/* Toggleable content - dropdown */\n",
              "\n",
              "#sk-container-id-1 div.sk-toggleable__content {\n",
              "  max-height: 0;\n",
              "  max-width: 0;\n",
              "  overflow: hidden;\n",
              "  text-align: left;\n",
              "  /* unfitted */\n",
              "  background-color: var(--sklearn-color-unfitted-level-0);\n",
              "}\n",
              "\n",
              "#sk-container-id-1 div.sk-toggleable__content.fitted {\n",
              "  /* fitted */\n",
              "  background-color: var(--sklearn-color-fitted-level-0);\n",
              "}\n",
              "\n",
              "#sk-container-id-1 div.sk-toggleable__content pre {\n",
              "  margin: 0.2em;\n",
              "  border-radius: 0.25em;\n",
              "  color: var(--sklearn-color-text);\n",
              "  /* unfitted */\n",
              "  background-color: var(--sklearn-color-unfitted-level-0);\n",
              "}\n",
              "\n",
              "#sk-container-id-1 div.sk-toggleable__content.fitted pre {\n",
              "  /* unfitted */\n",
              "  background-color: var(--sklearn-color-fitted-level-0);\n",
              "}\n",
              "\n",
              "#sk-container-id-1 input.sk-toggleable__control:checked~div.sk-toggleable__content {\n",
              "  /* Expand drop-down */\n",
              "  max-height: 200px;\n",
              "  max-width: 100%;\n",
              "  overflow: auto;\n",
              "}\n",
              "\n",
              "#sk-container-id-1 input.sk-toggleable__control:checked~label.sk-toggleable__label-arrow:before {\n",
              "  content: \"▾\";\n",
              "}\n",
              "\n",
              "/* Pipeline/ColumnTransformer-specific style */\n",
              "\n",
              "#sk-container-id-1 div.sk-label input.sk-toggleable__control:checked~label.sk-toggleable__label {\n",
              "  color: var(--sklearn-color-text);\n",
              "  background-color: var(--sklearn-color-unfitted-level-2);\n",
              "}\n",
              "\n",
              "#sk-container-id-1 div.sk-label.fitted input.sk-toggleable__control:checked~label.sk-toggleable__label {\n",
              "  background-color: var(--sklearn-color-fitted-level-2);\n",
              "}\n",
              "\n",
              "/* Estimator-specific style */\n",
              "\n",
              "/* Colorize estimator box */\n",
              "#sk-container-id-1 div.sk-estimator input.sk-toggleable__control:checked~label.sk-toggleable__label {\n",
              "  /* unfitted */\n",
              "  background-color: var(--sklearn-color-unfitted-level-2);\n",
              "}\n",
              "\n",
              "#sk-container-id-1 div.sk-estimator.fitted input.sk-toggleable__control:checked~label.sk-toggleable__label {\n",
              "  /* fitted */\n",
              "  background-color: var(--sklearn-color-fitted-level-2);\n",
              "}\n",
              "\n",
              "#sk-container-id-1 div.sk-label label.sk-toggleable__label,\n",
              "#sk-container-id-1 div.sk-label label {\n",
              "  /* The background is the default theme color */\n",
              "  color: var(--sklearn-color-text-on-default-background);\n",
              "}\n",
              "\n",
              "/* On hover, darken the color of the background */\n",
              "#sk-container-id-1 div.sk-label:hover label.sk-toggleable__label {\n",
              "  color: var(--sklearn-color-text);\n",
              "  background-color: var(--sklearn-color-unfitted-level-2);\n",
              "}\n",
              "\n",
              "/* Label box, darken color on hover, fitted */\n",
              "#sk-container-id-1 div.sk-label.fitted:hover label.sk-toggleable__label.fitted {\n",
              "  color: var(--sklearn-color-text);\n",
              "  background-color: var(--sklearn-color-fitted-level-2);\n",
              "}\n",
              "\n",
              "/* Estimator label */\n",
              "\n",
              "#sk-container-id-1 div.sk-label label {\n",
              "  font-family: monospace;\n",
              "  font-weight: bold;\n",
              "  display: inline-block;\n",
              "  line-height: 1.2em;\n",
              "}\n",
              "\n",
              "#sk-container-id-1 div.sk-label-container {\n",
              "  text-align: center;\n",
              "}\n",
              "\n",
              "/* Estimator-specific */\n",
              "#sk-container-id-1 div.sk-estimator {\n",
              "  font-family: monospace;\n",
              "  border: 1px dotted var(--sklearn-color-border-box);\n",
              "  border-radius: 0.25em;\n",
              "  box-sizing: border-box;\n",
              "  margin-bottom: 0.5em;\n",
              "  /* unfitted */\n",
              "  background-color: var(--sklearn-color-unfitted-level-0);\n",
              "}\n",
              "\n",
              "#sk-container-id-1 div.sk-estimator.fitted {\n",
              "  /* fitted */\n",
              "  background-color: var(--sklearn-color-fitted-level-0);\n",
              "}\n",
              "\n",
              "/* on hover */\n",
              "#sk-container-id-1 div.sk-estimator:hover {\n",
              "  /* unfitted */\n",
              "  background-color: var(--sklearn-color-unfitted-level-2);\n",
              "}\n",
              "\n",
              "#sk-container-id-1 div.sk-estimator.fitted:hover {\n",
              "  /* fitted */\n",
              "  background-color: var(--sklearn-color-fitted-level-2);\n",
              "}\n",
              "\n",
              "/* Specification for estimator info (e.g. \"i\" and \"?\") */\n",
              "\n",
              "/* Common style for \"i\" and \"?\" */\n",
              "\n",
              ".sk-estimator-doc-link,\n",
              "a:link.sk-estimator-doc-link,\n",
              "a:visited.sk-estimator-doc-link {\n",
              "  float: right;\n",
              "  font-size: smaller;\n",
              "  line-height: 1em;\n",
              "  font-family: monospace;\n",
              "  background-color: var(--sklearn-color-background);\n",
              "  border-radius: 1em;\n",
              "  height: 1em;\n",
              "  width: 1em;\n",
              "  text-decoration: none !important;\n",
              "  margin-left: 0.5em;\n",
              "  text-align: center;\n",
              "  /* unfitted */\n",
              "  border: var(--sklearn-color-unfitted-level-1) 1pt solid;\n",
              "  color: var(--sklearn-color-unfitted-level-1);\n",
              "}\n",
              "\n",
              ".sk-estimator-doc-link.fitted,\n",
              "a:link.sk-estimator-doc-link.fitted,\n",
              "a:visited.sk-estimator-doc-link.fitted {\n",
              "  /* fitted */\n",
              "  border: var(--sklearn-color-fitted-level-1) 1pt solid;\n",
              "  color: var(--sklearn-color-fitted-level-1);\n",
              "}\n",
              "\n",
              "/* On hover */\n",
              "div.sk-estimator:hover .sk-estimator-doc-link:hover,\n",
              ".sk-estimator-doc-link:hover,\n",
              "div.sk-label-container:hover .sk-estimator-doc-link:hover,\n",
              ".sk-estimator-doc-link:hover {\n",
              "  /* unfitted */\n",
              "  background-color: var(--sklearn-color-unfitted-level-3);\n",
              "  color: var(--sklearn-color-background);\n",
              "  text-decoration: none;\n",
              "}\n",
              "\n",
              "div.sk-estimator.fitted:hover .sk-estimator-doc-link.fitted:hover,\n",
              ".sk-estimator-doc-link.fitted:hover,\n",
              "div.sk-label-container:hover .sk-estimator-doc-link.fitted:hover,\n",
              ".sk-estimator-doc-link.fitted:hover {\n",
              "  /* fitted */\n",
              "  background-color: var(--sklearn-color-fitted-level-3);\n",
              "  color: var(--sklearn-color-background);\n",
              "  text-decoration: none;\n",
              "}\n",
              "\n",
              "/* Span, style for the box shown on hovering the info icon */\n",
              ".sk-estimator-doc-link span {\n",
              "  display: none;\n",
              "  z-index: 9999;\n",
              "  position: relative;\n",
              "  font-weight: normal;\n",
              "  right: .2ex;\n",
              "  padding: .5ex;\n",
              "  margin: .5ex;\n",
              "  width: min-content;\n",
              "  min-width: 20ex;\n",
              "  max-width: 50ex;\n",
              "  color: var(--sklearn-color-text);\n",
              "  box-shadow: 2pt 2pt 4pt #999;\n",
              "  /* unfitted */\n",
              "  background: var(--sklearn-color-unfitted-level-0);\n",
              "  border: .5pt solid var(--sklearn-color-unfitted-level-3);\n",
              "}\n",
              "\n",
              ".sk-estimator-doc-link.fitted span {\n",
              "  /* fitted */\n",
              "  background: var(--sklearn-color-fitted-level-0);\n",
              "  border: var(--sklearn-color-fitted-level-3);\n",
              "}\n",
              "\n",
              ".sk-estimator-doc-link:hover span {\n",
              "  display: block;\n",
              "}\n",
              "\n",
              "/* \"?\"-specific style due to the `<a>` HTML tag */\n",
              "\n",
              "#sk-container-id-1 a.estimator_doc_link {\n",
              "  float: right;\n",
              "  font-size: 1rem;\n",
              "  line-height: 1em;\n",
              "  font-family: monospace;\n",
              "  background-color: var(--sklearn-color-background);\n",
              "  border-radius: 1rem;\n",
              "  height: 1rem;\n",
              "  width: 1rem;\n",
              "  text-decoration: none;\n",
              "  /* unfitted */\n",
              "  color: var(--sklearn-color-unfitted-level-1);\n",
              "  border: var(--sklearn-color-unfitted-level-1) 1pt solid;\n",
              "}\n",
              "\n",
              "#sk-container-id-1 a.estimator_doc_link.fitted {\n",
              "  /* fitted */\n",
              "  border: var(--sklearn-color-fitted-level-1) 1pt solid;\n",
              "  color: var(--sklearn-color-fitted-level-1);\n",
              "}\n",
              "\n",
              "/* On hover */\n",
              "#sk-container-id-1 a.estimator_doc_link:hover {\n",
              "  /* unfitted */\n",
              "  background-color: var(--sklearn-color-unfitted-level-3);\n",
              "  color: var(--sklearn-color-background);\n",
              "  text-decoration: none;\n",
              "}\n",
              "\n",
              "#sk-container-id-1 a.estimator_doc_link.fitted:hover {\n",
              "  /* fitted */\n",
              "  background-color: var(--sklearn-color-fitted-level-3);\n",
              "}\n",
              "</style><div id=\"sk-container-id-1\" class=\"sk-top-container\"><div class=\"sk-text-repr-fallback\"><pre>KMeans(n_clusters=3, random_state=42)</pre><b>In a Jupyter environment, please rerun this cell to show the HTML representation or trust the notebook. <br />On GitHub, the HTML representation is unable to render, please try loading this page with nbviewer.org.</b></div><div class=\"sk-container\" hidden><div class=\"sk-item\"><div class=\"sk-estimator fitted sk-toggleable\"><input class=\"sk-toggleable__control sk-hidden--visually\" id=\"sk-estimator-id-1\" type=\"checkbox\" checked><label for=\"sk-estimator-id-1\" class=\"sk-toggleable__label fitted sk-toggleable__label-arrow\"><div><div>KMeans</div></div><div><a class=\"sk-estimator-doc-link fitted\" rel=\"noreferrer\" target=\"_blank\" href=\"https://scikit-learn.org/1.6/modules/generated/sklearn.cluster.KMeans.html\">?<span>Documentation for KMeans</span></a><span class=\"sk-estimator-doc-link fitted\">i<span>Fitted</span></span></div></label><div class=\"sk-toggleable__content fitted\"><pre>KMeans(n_clusters=3, random_state=42)</pre></div> </div></div></div></div>"
            ]
          },
          "metadata": {},
          "execution_count": 7
        }
      ]
    },
    {
      "cell_type": "markdown",
      "source": [
        "**Step 3: Get cluster labels for each sample**"
      ],
      "metadata": {
        "id": "bzVVNim0NoOj"
      }
    },
    {
      "cell_type": "code",
      "source": [
        "labels = kmeans.labels_\n",
        "print(\"Cluster labels for training data:\", labels[:10])  # show first 10"
      ],
      "metadata": {
        "colab": {
          "base_uri": "https://localhost:8080/"
        },
        "id": "q8NvFa7SNtfT",
        "outputId": "b38d9892-3b34-46ce-f39e-62b46754c49c"
      },
      "execution_count": 8,
      "outputs": [
        {
          "output_type": "stream",
          "name": "stdout",
          "text": [
            "Cluster labels for training data: [1 1 1 1 1 1 1 1 1 1]\n"
          ]
        }
      ]
    },
    {
      "cell_type": "markdown",
      "source": [
        "**This assigns each flower sample to one of the three clusters.**"
      ],
      "metadata": {
        "id": "7XIa___HN8Lj"
      }
    },
    {
      "cell_type": "markdown",
      "source": [
        "### **Predicting Clusters for New Samples**"
      ],
      "metadata": {
        "id": "Cb3yncbMOHDB"
      }
    },
    {
      "cell_type": "markdown",
      "source": [
        "One great thing about K-Means is that once the model has found the cluster centroids, it can classify new, unseen samples."
      ],
      "metadata": {
        "id": "LFuE_BggOSPc"
      }
    },
    {
      "cell_type": "code",
      "source": [
        "# Example: New iris samples\n",
        "new_samples = [[5.0, 3.2, 1.2, 0.2],\n",
        "               [6.5, 3.0, 5.2, 2.0]]\n",
        "\n",
        "# Predict which clusters they belong to\n",
        "new_labels = kmeans.predict(new_samples)\n",
        "print(\"Cluster labels for new samples:\", new_labels)\n"
      ],
      "metadata": {
        "colab": {
          "base_uri": "https://localhost:8080/"
        },
        "id": "Bx2NKBSROLz1",
        "outputId": "57b7ca2a-23d9-467e-d63e-17ed1e4e9e1b"
      },
      "execution_count": 9,
      "outputs": [
        {
          "output_type": "stream",
          "name": "stdout",
          "text": [
            "Cluster labels for new samples: [1 0]\n"
          ]
        }
      ]
    },
    {
      "cell_type": "markdown",
      "source": [
        "The model simply checks which cluster centroid is closest and assigns the new sample accordingly."
      ],
      "metadata": {
        "id": "NqTk0pCEOcCx"
      }
    },
    {
      "cell_type": "markdown",
      "source": [
        "###**Find optimum number of clusters(The Elbow Method)**"
      ],
      "metadata": {
        "id": "zuY4Mo3F0hNG"
      }
    },
    {
      "cell_type": "markdown",
      "source": [
        "Sometimes we don’t know how many clusters to choose. The elbow method helps find the optimum k by plotting the inertia (a measure of clustering quality) for different cluster numbers."
      ],
      "metadata": {
        "id": "L__4vnpnO11i"
      }
    },
    {
      "cell_type": "code",
      "source": [
        "# Step 1: Try different numbers of clusters\n",
        "cluster_range = range(2, 15)\n",
        "inertias = []\n",
        "\n",
        "for c in cluster_range:\n",
        "    kmeans = KMeans(n_clusters=c, init='k-means++', n_init=100, random_state=0)\n",
        "    kmeans.fit(X)\n",
        "    inertias.append(kmeans.inertia_)\n",
        "\n",
        "# Step 2: Plot inertia vs. number of clusters\n",
        "plt.plot(cluster_range, inertias, marker='o')\n",
        "plt.xlabel(\"Number of Clusters (k)\")\n",
        "plt.ylabel(\"Inertia\")\n",
        "plt.title(\"Elbow Method for Choosing k\")\n",
        "plt.show()\n"
      ],
      "metadata": {
        "id": "cI5R1RVyO8j_",
        "outputId": "97d88ebf-5b47-4fa4-867f-2909e986d008",
        "colab": {
          "base_uri": "https://localhost:8080/",
          "height": 480
        }
      },
      "execution_count": 10,
      "outputs": [
        {
          "output_type": "display_data",
          "data": {
            "text/plain": [
              "<Figure size 640x480 with 1 Axes>"
            ],
            "image/png": "[encoded data removed]"
          },
          "metadata": {}
        }
      ]
    },
    {
      "cell_type": "markdown",
      "source": [
        "👉 Look for the “elbow point” in the graph, where inertia starts decreasing more slowly. That’s usually a good choice for k."
      ],
      "metadata": {
        "id": "UnZO_4d4PF9R"
      }
    },
    {
      "cell_type": "markdown",
      "source": [
        "### **Scatter plot**"
      ],
      "metadata": {
        "id": "sDlmekIySRMZ"
      }
    },
    {
      "cell_type": "code",
      "source": [
        "plt.style.use(\"seaborn\")\n",
        "plt.rc(\"figure\", autolayout=True)\n",
        "plt.rc(\"axes\", labelweight='bold', labelsize='large', titleweight='bold', titlesize=14, titlepad=10)\n",
        "sns.relplot(x=\"etest_p\", y=\"specialisation\", hue=\"Cluster\", data=cluster_data, height=6)\n",
        "plt.show()"
      ],
      "metadata": {
        "id": "INQoXrXHWdqd"
      },
      "execution_count": null,
      "outputs": []
    },
    {
      "cell_type": "markdown",
      "source": [
        "### **Evaluating a clustering**"
      ],
      "metadata": {
        "id": "tRDbhgvzvZe_"
      }
    },
    {
      "cell_type": "code",
      "source": [
        "from sklearn.cluster import KMeans\n",
        "model = KMeans(n_clusters=4)\n",
        "model.fit(x_normal)\n",
        "print(model.inertia_)"
      ],
      "metadata": {
        "id": "MuIXcN5nwPRJ"
      },
      "execution_count": null,
      "outputs": []
    },
    {
      "cell_type": "markdown",
      "source": [
        "### **Calculate Accuracy**"
      ],
      "metadata": {
        "id": "vKsSgSoVDRlh"
      }
    },
    {
      "cell_type": "markdown",
      "source": [
        "## **DBSCAN Clustering**"
      ],
      "metadata": {
        "id": "eF3yRouiYfur"
      }
    },
    {
      "cell_type": "markdown",
      "source": [
        "### **Import Library**"
      ],
      "metadata": {
        "id": "kruokJ9wYu0K"
      }
    },
    {
      "cell_type": "code",
      "source": [
        "import numpy as np\n",
        "import pandas as pd\n",
        "from sklearn.cluster import DBSCAN\n",
        "from sklearn.preprocessing import StandardScaler\n",
        "from sklearn.decomposition import PCA\n",
        "import matplotlib.pyplot as plt"
      ],
      "metadata": {
        "id": "VWP1aWp9Y2cr"
      },
      "execution_count": null,
      "outputs": []
    },
    {
      "cell_type": "markdown",
      "source": [
        "### **Data Preprocessing**"
      ],
      "metadata": {
        "id": "qMc0XJqAY9Ea"
      }
    },
    {
      "cell_type": "markdown",
      "source": [
        "**Find Missing Data**"
      ],
      "metadata": {
        "id": "Cq26s90FZXpc"
      }
    },
    {
      "cell_type": "code",
      "source": [
        "cluster_data.isnull().sum()"
      ],
      "metadata": {
        "id": "MGmcP_e6ZDpl"
      },
      "execution_count": null,
      "outputs": []
    },
    {
      "cell_type": "code",
      "source": [
        "data = data.drop('CUST_ID', axis=1)\n",
        "data.fillna(data.mean(), inplace=True)"
      ],
      "metadata": {
        "id": "p7mJjdbIZSk8"
      },
      "execution_count": null,
      "outputs": []
    },
    {
      "cell_type": "markdown",
      "source": [
        "**scale and normalize the dataset**"
      ],
      "metadata": {
        "id": "wjzkaf0TZ1jM"
      }
    },
    {
      "cell_type": "code",
      "source": [
        "# scaling and normalizing the dataset\n",
        "scaler = StandardScaler()\n",
        "x_scaled = scaler.fit_transform(cluster_data)\n",
        "from sklearn.preprocessing import normalize\n",
        "x_normal = normalize(x_scaled)\n",
        "x_normal = pd.DataFrame(x_normal)"
      ],
      "metadata": {
        "id": "6oXjx_NeZoTe"
      },
      "execution_count": null,
      "outputs": []
    },
    {
      "cell_type": "markdown",
      "source": [
        "**Principal Component Analysis (PCA)**"
      ],
      "metadata": {
        "id": "gLb4fevsZ8-5"
      }
    },
    {
      "cell_type": "markdown",
      "source": [
        "Now I will implement the Principal Component Analysis (PCA) algorithm in machine learning to reduce the dimensionality of the data for visualization:"
      ],
      "metadata": {
        "id": "43iG6qZBaHna"
      }
    },
    {
      "cell_type": "code",
      "source": [
        "# reduce the dimensionality of the dataset\n",
        "pca = PCA(n_components=2)\n",
        "x_principal = pca.fit_transform(x_normal)\n",
        "x_principal = pd.DataFrame(x_principal)\n",
        "x_principal.columns = ['V1', 'V2']\n",
        "print(x_principal.head())"
      ],
      "metadata": {
        "id": "oUmkfFqdZw-E",
        "colab": {
          "base_uri": "https://localhost:8080/"
        },
        "outputId": "47090b3e-e2fc-48e4-a08b-99078373c72f"
      },
      "execution_count": null,
      "outputs": [
        {
          "output_type": "stream",
          "name": "stdout",
          "text": [
            "         V1        V2\n",
            "0  0.088253 -0.229349\n",
            "1 -0.751777 -0.182983\n",
            "2 -0.008200  0.762539\n",
            "3  0.746365 -0.156298\n",
            "4 -0.486665  0.372023\n"
          ]
        }
      ]
    },
    {
      "cell_type": "markdown",
      "source": [
        "### **Elbow Method**"
      ],
      "metadata": {
        "id": "H77lMBOrydPc"
      }
    },
    {
      "cell_type": "code",
      "source": [
        "# Using the elbow method to find the optimal number of clusters\n",
        "from sklearn.cluster import DBSCAN\n",
        "dbscan=DBSCAN(eps=3,min_samples=4)"
      ],
      "metadata": {
        "id": "U23g1WnQyqjk"
      },
      "execution_count": null,
      "outputs": []
    },
    {
      "cell_type": "code",
      "source": [
        "# Fitting the model\n",
        "model=dbscan.fit(x_normal)\n",
        "labels=model.labels_\n",
        "print(labels)"
      ],
      "metadata": {
        "id": "Rm3R78cqy7H9"
      },
      "execution_count": null,
      "outputs": []
    },
    {
      "cell_type": "code",
      "source": [
        "#identifying the points which makes up our core points\n",
        "sample_cores=np.zeros_like(labels,dtype=bool)\n",
        "sample_cores[dbscan.core_sample_indices_]=True"
      ],
      "metadata": {
        "id": "3wJuBitTzJq0"
      },
      "execution_count": null,
      "outputs": []
    },
    {
      "cell_type": "code",
      "source": [
        "#Calculating the number of clusters\n",
        "n_clusters=len(set(labels))- (1 if -1 in labels else 0)\n",
        "print(n_clusters)"
      ],
      "metadata": {
        "id": "c7zA3d3mzQcK"
      },
      "execution_count": null,
      "outputs": []
    },
    {
      "cell_type": "markdown",
      "source": [
        "### **Model Training**"
      ],
      "metadata": {
        "id": "qOSuyaWKaQS8"
      }
    },
    {
      "cell_type": "markdown",
      "source": [
        "Now let’s implement the DBSCAN algorithm and have a look at the data and the clusters after implementing it:"
      ],
      "metadata": {
        "id": "3FlcQ_MFaakp"
      }
    },
    {
      "cell_type": "code",
      "source": [
        "dbscan = DBSCAN(eps=0.036, min_samples=4).fit(x_principal)\n",
        "labels = dbscan.labels_\n",
        "data['cluster'] = dbscan.labels_\n",
        "print(data.tail())"
      ],
      "metadata": {
        "colab": {
          "base_uri": "https://localhost:8080/"
        },
        "id": "iaXK4kj2aWtk",
        "outputId": "0f003727-ee05-4fd1-e364-748896189381"
      },
      "execution_count": null,
      "outputs": [
        {
          "output_type": "stream",
          "name": "stdout",
          "text": [
            "     sl_no  gender  ssc_p  ssc_b  ...  mba_p  status    salary  cluster\n",
            "210    211       1   80.6      1  ...  74.49       1  400000.0       -1\n",
            "211    212       1   58.0      1  ...  53.62       1  275000.0       -1\n",
            "212    213       1   67.0      1  ...  69.72       1  295000.0       -1\n",
            "213    214       0   74.0      1  ...  60.23       1  204000.0       -1\n",
            "214    215       1   62.0      0  ...  60.22       0       NaN        4\n",
            "\n",
            "[5 rows x 16 columns]\n"
          ]
        }
      ]
    },
    {
      "cell_type": "markdown",
      "source": [
        "### **Scatter plot**"
      ],
      "metadata": {
        "id": "Ne1OJ9JMat-k"
      }
    },
    {
      "cell_type": "code",
      "source": [
        "\n",
        "clusterColor = {0: u'yellow', 1: u'green', 2: 'blue', -1: u'red'}\n",
        "colors = [clusterColor[label] for label in labels]\n",
        "plt.figure(figsize=(12, 10))\n",
        "plt.scatter(x_principal['V1'], x_principal['V2'], c=colors)\n",
        "plt.title(\"Implementation of DBSCAN Clustering\", fontname=\"Times New Roman\",fontweight=\"bold\")\n",
        "plt.show()"
      ],
      "metadata": {
        "id": "Ss2WWz8last6",
        "colab": {
          "base_uri": "https://localhost:8080/",
          "height": 357
        },
        "outputId": "60f87811-56ee-4ebc-cf43-783bff239be8"
      },
      "execution_count": null,
      "outputs": [
        {
          "output_type": "error",
          "ename": "KeyError",
          "evalue": "ignored",
          "traceback": [
            "\u001b[0;31m---------------------------------------------------------------------------\u001b[0m",
            "\u001b[0;31mKeyError\u001b[0m                                  Traceback (most recent call last)",
            "\u001b[0;32m<ipython-input-34-bf9ad4b78f54>\u001b[0m in \u001b[0;36m<module>\u001b[0;34m()\u001b[0m\n\u001b[1;32m      1\u001b[0m \u001b[0;34m\u001b[0m\u001b[0m\n\u001b[1;32m      2\u001b[0m \u001b[0mclusterColor\u001b[0m \u001b[0;34m=\u001b[0m \u001b[0;34m{\u001b[0m\u001b[0;36m0\u001b[0m\u001b[0;34m:\u001b[0m \u001b[0;34mu'yellow'\u001b[0m\u001b[0;34m,\u001b[0m \u001b[0;36m1\u001b[0m\u001b[0;34m:\u001b[0m \u001b[0;34mu'green'\u001b[0m\u001b[0;34m,\u001b[0m \u001b[0;36m2\u001b[0m\u001b[0;34m:\u001b[0m \u001b[0;34m'blue'\u001b[0m\u001b[0;34m,\u001b[0m \u001b[0;34m-\u001b[0m\u001b[0;36m1\u001b[0m\u001b[0;34m:\u001b[0m \u001b[0;34mu'red'\u001b[0m\u001b[0;34m}\u001b[0m\u001b[0;34m\u001b[0m\u001b[0;34m\u001b[0m\u001b[0m\n\u001b[0;32m----> 3\u001b[0;31m \u001b[0mcolors\u001b[0m \u001b[0;34m=\u001b[0m \u001b[0;34m[\u001b[0m\u001b[0mclusterColor\u001b[0m\u001b[0;34m[\u001b[0m\u001b[0mlabel\u001b[0m\u001b[0;34m]\u001b[0m \u001b[0;32mfor\u001b[0m \u001b[0mlabel\u001b[0m \u001b[0;32min\u001b[0m \u001b[0mlabels\u001b[0m\u001b[0;34m]\u001b[0m\u001b[0;34m\u001b[0m\u001b[0;34m\u001b[0m\u001b[0m\n\u001b[0m\u001b[1;32m      4\u001b[0m \u001b[0mplt\u001b[0m\u001b[0;34m.\u001b[0m\u001b[0mfigure\u001b[0m\u001b[0;34m(\u001b[0m\u001b[0mfigsize\u001b[0m\u001b[0;34m=\u001b[0m\u001b[0;34m(\u001b[0m\u001b[0;36m12\u001b[0m\u001b[0;34m,\u001b[0m \u001b[0;36m10\u001b[0m\u001b[0;34m)\u001b[0m\u001b[0;34m)\u001b[0m\u001b[0;34m\u001b[0m\u001b[0;34m\u001b[0m\u001b[0m\n\u001b[1;32m      5\u001b[0m \u001b[0mplt\u001b[0m\u001b[0;34m.\u001b[0m\u001b[0mscatter\u001b[0m\u001b[0;34m(\u001b[0m\u001b[0mx_principal\u001b[0m\u001b[0;34m[\u001b[0m\u001b[0;34m'V1'\u001b[0m\u001b[0;34m]\u001b[0m\u001b[0;34m,\u001b[0m \u001b[0mx_principal\u001b[0m\u001b[0;34m[\u001b[0m\u001b[0;34m'V2'\u001b[0m\u001b[0;34m]\u001b[0m\u001b[0;34m,\u001b[0m \u001b[0mc\u001b[0m\u001b[0;34m=\u001b[0m\u001b[0mcolors\u001b[0m\u001b[0;34m)\u001b[0m\u001b[0;34m\u001b[0m\u001b[0;34m\u001b[0m\u001b[0m\n",
            "\u001b[0;32m<ipython-input-34-bf9ad4b78f54>\u001b[0m in \u001b[0;36m<listcomp>\u001b[0;34m(.0)\u001b[0m\n\u001b[1;32m      1\u001b[0m \u001b[0;34m\u001b[0m\u001b[0m\n\u001b[1;32m      2\u001b[0m \u001b[0mclusterColor\u001b[0m \u001b[0;34m=\u001b[0m \u001b[0;34m{\u001b[0m\u001b[0;36m0\u001b[0m\u001b[0;34m:\u001b[0m \u001b[0;34mu'yellow'\u001b[0m\u001b[0;34m,\u001b[0m \u001b[0;36m1\u001b[0m\u001b[0;34m:\u001b[0m \u001b[0;34mu'green'\u001b[0m\u001b[0;34m,\u001b[0m \u001b[0;36m2\u001b[0m\u001b[0;34m:\u001b[0m \u001b[0;34m'blue'\u001b[0m\u001b[0;34m,\u001b[0m \u001b[0;34m-\u001b[0m\u001b[0;36m1\u001b[0m\u001b[0;34m:\u001b[0m \u001b[0;34mu'red'\u001b[0m\u001b[0;34m}\u001b[0m\u001b[0;34m\u001b[0m\u001b[0;34m\u001b[0m\u001b[0m\n\u001b[0;32m----> 3\u001b[0;31m \u001b[0mcolors\u001b[0m \u001b[0;34m=\u001b[0m \u001b[0;34m[\u001b[0m\u001b[0mclusterColor\u001b[0m\u001b[0;34m[\u001b[0m\u001b[0mlabel\u001b[0m\u001b[0;34m]\u001b[0m \u001b[0;32mfor\u001b[0m \u001b[0mlabel\u001b[0m \u001b[0;32min\u001b[0m \u001b[0mlabels\u001b[0m\u001b[0;34m]\u001b[0m\u001b[0;34m\u001b[0m\u001b[0;34m\u001b[0m\u001b[0m\n\u001b[0m\u001b[1;32m      4\u001b[0m \u001b[0mplt\u001b[0m\u001b[0;34m.\u001b[0m\u001b[0mfigure\u001b[0m\u001b[0;34m(\u001b[0m\u001b[0mfigsize\u001b[0m\u001b[0;34m=\u001b[0m\u001b[0;34m(\u001b[0m\u001b[0;36m12\u001b[0m\u001b[0;34m,\u001b[0m \u001b[0;36m10\u001b[0m\u001b[0;34m)\u001b[0m\u001b[0;34m)\u001b[0m\u001b[0;34m\u001b[0m\u001b[0;34m\u001b[0m\u001b[0m\n\u001b[1;32m      5\u001b[0m \u001b[0mplt\u001b[0m\u001b[0;34m.\u001b[0m\u001b[0mscatter\u001b[0m\u001b[0;34m(\u001b[0m\u001b[0mx_principal\u001b[0m\u001b[0;34m[\u001b[0m\u001b[0;34m'V1'\u001b[0m\u001b[0;34m]\u001b[0m\u001b[0;34m,\u001b[0m \u001b[0mx_principal\u001b[0m\u001b[0;34m[\u001b[0m\u001b[0;34m'V2'\u001b[0m\u001b[0;34m]\u001b[0m\u001b[0;34m,\u001b[0m \u001b[0mc\u001b[0m\u001b[0;34m=\u001b[0m\u001b[0mcolors\u001b[0m\u001b[0;34m)\u001b[0m\u001b[0;34m\u001b[0m\u001b[0;34m\u001b[0m\u001b[0m\n",
            "\u001b[0;31mKeyError\u001b[0m: 4"
          ]
        }
      ]
    },
    {
      "cell_type": "markdown",
      "source": [
        "## **Agglomerative Clustering**"
      ],
      "metadata": {
        "id": "8KptP40Qbh2R"
      }
    },
    {
      "cell_type": "markdown",
      "source": [
        "### **Import library**"
      ],
      "metadata": {
        "id": "5zcdVa_IiW4P"
      }
    },
    {
      "cell_type": "code",
      "source": [
        "import numpy as np\n",
        "import pandas as pd\n",
        "import matplotlib.pyplot as plt\n",
        "import seaborn as sns\n",
        "sns.set()"
      ],
      "metadata": {
        "id": "YVuEdKgwie_c"
      },
      "execution_count": null,
      "outputs": []
    },
    {
      "cell_type": "markdown",
      "source": [
        "### **Data Preprocessing**"
      ],
      "metadata": {
        "id": "e6YNzwtEiyTV"
      }
    },
    {
      "cell_type": "markdown",
      "source": [
        "Here we can make clusters based on the Degree passing mars and student filed of the students. So let’s prepare the data accordingly:"
      ],
      "metadata": {
        "id": "e5v9_J4Ki-De"
      }
    },
    {
      "cell_type": "code",
      "source": [
        "Train_data"
      ],
      "metadata": {
        "colab": {
          "base_uri": "https://localhost:8080/",
          "height": 483
        },
        "id": "rsGJ61_5jRXE",
        "outputId": "50f7e6bd-7d57-4827-8ead-d252d6ad239d"
      },
      "execution_count": null,
      "outputs": [
        {
          "output_type": "execute_result",
          "data": {
            "text/html": [
              "\n",
              "  <div id=\"df-5f9eee3b-c6ab-42e2-965e-d1519ffc0623\">\n",
              "    <div class=\"colab-df-container\">\n",
              "      <div>\n",
              "<style scoped>\n",
              "    .dataframe tbody tr th:only-of-type {\n",
              "        vertical-align: middle;\n",
              "    }\n",
              "\n",
              "    .dataframe tbody tr th {\n",
              "        vertical-align: top;\n",
              "    }\n",
              "\n",
              "    .dataframe thead th {\n",
              "        text-align: right;\n",
              "    }\n",
              "</style>\n",
              "<table border=\"1\" class=\"dataframe\">\n",
              "  <thead>\n",
              "    <tr style=\"text-align: right;\">\n",
              "      <th></th>\n",
              "      <th>sl_no</th>\n",
              "      <th>gender</th>\n",
              "      <th>ssc_p</th>\n",
              "      <th>ssc_b</th>\n",
              "      <th>hsc_p</th>\n",
              "      <th>hsc_b</th>\n",
              "      <th>hsc_s</th>\n",
              "      <th>degree_p</th>\n",
              "      <th>degree_t</th>\n",
              "      <th>workex</th>\n",
              "      <th>etest_p</th>\n",
              "      <th>specialisation</th>\n",
              "      <th>mba_p</th>\n",
              "      <th>status</th>\n",
              "      <th>salary</th>\n",
              "      <th>cluster</th>\n",
              "    </tr>\n",
              "  </thead>\n",
              "  <tbody>\n",
              "    <tr>\n",
              "      <th>0</th>\n",
              "      <td>1</td>\n",
              "      <td>1</td>\n",
              "      <td>67.00</td>\n",
              "      <td>1</td>\n",
              "      <td>91.00</td>\n",
              "      <td>1</td>\n",
              "      <td>1</td>\n",
              "      <td>58.00</td>\n",
              "      <td>2</td>\n",
              "      <td>0</td>\n",
              "      <td>55.0</td>\n",
              "      <td>1</td>\n",
              "      <td>58.80</td>\n",
              "      <td>1</td>\n",
              "      <td>270000.0</td>\n",
              "      <td>-1</td>\n",
              "    </tr>\n",
              "    <tr>\n",
              "      <th>1</th>\n",
              "      <td>2</td>\n",
              "      <td>1</td>\n",
              "      <td>79.33</td>\n",
              "      <td>0</td>\n",
              "      <td>78.33</td>\n",
              "      <td>1</td>\n",
              "      <td>2</td>\n",
              "      <td>77.48</td>\n",
              "      <td>2</td>\n",
              "      <td>1</td>\n",
              "      <td>86.5</td>\n",
              "      <td>0</td>\n",
              "      <td>66.28</td>\n",
              "      <td>1</td>\n",
              "      <td>200000.0</td>\n",
              "      <td>-1</td>\n",
              "    </tr>\n",
              "    <tr>\n",
              "      <th>2</th>\n",
              "      <td>3</td>\n",
              "      <td>1</td>\n",
              "      <td>65.00</td>\n",
              "      <td>0</td>\n",
              "      <td>68.00</td>\n",
              "      <td>0</td>\n",
              "      <td>0</td>\n",
              "      <td>64.00</td>\n",
              "      <td>0</td>\n",
              "      <td>0</td>\n",
              "      <td>75.0</td>\n",
              "      <td>0</td>\n",
              "      <td>57.80</td>\n",
              "      <td>1</td>\n",
              "      <td>250000.0</td>\n",
              "      <td>-1</td>\n",
              "    </tr>\n",
              "    <tr>\n",
              "      <th>3</th>\n",
              "      <td>4</td>\n",
              "      <td>1</td>\n",
              "      <td>56.00</td>\n",
              "      <td>0</td>\n",
              "      <td>52.00</td>\n",
              "      <td>0</td>\n",
              "      <td>2</td>\n",
              "      <td>52.00</td>\n",
              "      <td>2</td>\n",
              "      <td>0</td>\n",
              "      <td>66.0</td>\n",
              "      <td>1</td>\n",
              "      <td>59.43</td>\n",
              "      <td>0</td>\n",
              "      <td>NaN</td>\n",
              "      <td>0</td>\n",
              "    </tr>\n",
              "    <tr>\n",
              "      <th>4</th>\n",
              "      <td>5</td>\n",
              "      <td>1</td>\n",
              "      <td>85.80</td>\n",
              "      <td>0</td>\n",
              "      <td>73.60</td>\n",
              "      <td>0</td>\n",
              "      <td>1</td>\n",
              "      <td>73.30</td>\n",
              "      <td>0</td>\n",
              "      <td>0</td>\n",
              "      <td>96.8</td>\n",
              "      <td>0</td>\n",
              "      <td>55.50</td>\n",
              "      <td>1</td>\n",
              "      <td>425000.0</td>\n",
              "      <td>-1</td>\n",
              "    </tr>\n",
              "    <tr>\n",
              "      <th>...</th>\n",
              "      <td>...</td>\n",
              "      <td>...</td>\n",
              "      <td>...</td>\n",
              "      <td>...</td>\n",
              "      <td>...</td>\n",
              "      <td>...</td>\n",
              "      <td>...</td>\n",
              "      <td>...</td>\n",
              "      <td>...</td>\n",
              "      <td>...</td>\n",
              "      <td>...</td>\n",
              "      <td>...</td>\n",
              "      <td>...</td>\n",
              "      <td>...</td>\n",
              "      <td>...</td>\n",
              "      <td>...</td>\n",
              "    </tr>\n",
              "    <tr>\n",
              "      <th>210</th>\n",
              "      <td>211</td>\n",
              "      <td>1</td>\n",
              "      <td>80.60</td>\n",
              "      <td>1</td>\n",
              "      <td>82.00</td>\n",
              "      <td>1</td>\n",
              "      <td>1</td>\n",
              "      <td>77.60</td>\n",
              "      <td>0</td>\n",
              "      <td>0</td>\n",
              "      <td>91.0</td>\n",
              "      <td>0</td>\n",
              "      <td>74.49</td>\n",
              "      <td>1</td>\n",
              "      <td>400000.0</td>\n",
              "      <td>-1</td>\n",
              "    </tr>\n",
              "    <tr>\n",
              "      <th>211</th>\n",
              "      <td>212</td>\n",
              "      <td>1</td>\n",
              "      <td>58.00</td>\n",
              "      <td>1</td>\n",
              "      <td>60.00</td>\n",
              "      <td>1</td>\n",
              "      <td>2</td>\n",
              "      <td>72.00</td>\n",
              "      <td>2</td>\n",
              "      <td>0</td>\n",
              "      <td>74.0</td>\n",
              "      <td>0</td>\n",
              "      <td>53.62</td>\n",
              "      <td>1</td>\n",
              "      <td>275000.0</td>\n",
              "      <td>-1</td>\n",
              "    </tr>\n",
              "    <tr>\n",
              "      <th>212</th>\n",
              "      <td>213</td>\n",
              "      <td>1</td>\n",
              "      <td>67.00</td>\n",
              "      <td>1</td>\n",
              "      <td>67.00</td>\n",
              "      <td>1</td>\n",
              "      <td>1</td>\n",
              "      <td>73.00</td>\n",
              "      <td>0</td>\n",
              "      <td>1</td>\n",
              "      <td>59.0</td>\n",
              "      <td>0</td>\n",
              "      <td>69.72</td>\n",
              "      <td>1</td>\n",
              "      <td>295000.0</td>\n",
              "      <td>-1</td>\n",
              "    </tr>\n",
              "    <tr>\n",
              "      <th>213</th>\n",
              "      <td>214</td>\n",
              "      <td>0</td>\n",
              "      <td>74.00</td>\n",
              "      <td>1</td>\n",
              "      <td>66.00</td>\n",
              "      <td>1</td>\n",
              "      <td>1</td>\n",
              "      <td>58.00</td>\n",
              "      <td>0</td>\n",
              "      <td>0</td>\n",
              "      <td>70.0</td>\n",
              "      <td>1</td>\n",
              "      <td>60.23</td>\n",
              "      <td>1</td>\n",
              "      <td>204000.0</td>\n",
              "      <td>-1</td>\n",
              "    </tr>\n",
              "    <tr>\n",
              "      <th>214</th>\n",
              "      <td>215</td>\n",
              "      <td>1</td>\n",
              "      <td>62.00</td>\n",
              "      <td>0</td>\n",
              "      <td>58.00</td>\n",
              "      <td>1</td>\n",
              "      <td>2</td>\n",
              "      <td>53.00</td>\n",
              "      <td>0</td>\n",
              "      <td>0</td>\n",
              "      <td>89.0</td>\n",
              "      <td>1</td>\n",
              "      <td>60.22</td>\n",
              "      <td>0</td>\n",
              "      <td>NaN</td>\n",
              "      <td>2</td>\n",
              "    </tr>\n",
              "  </tbody>\n",
              "</table>\n",
              "<p>215 rows × 16 columns</p>\n",
              "</div>\n",
              "      <button class=\"colab-df-convert\" onclick=\"convertToInteractive('df-5f9eee3b-c6ab-42e2-965e-d1519ffc0623')\"\n",
              "              title=\"Convert this dataframe to an interactive table.\"\n",
              "              style=\"display:none;\">\n",
              "        \n",
              "  <svg xmlns=\"http://www.w3.org/2000/svg\" height=\"24px\"viewBox=\"0 0 24 24\"\n",
              "       width=\"24px\">\n",
              "    <path d=\"M0 0h24v24H0V0z\" fill=\"none\"/>\n",
              "    <path d=\"M18.56 5.44l.94 2.06.94-2.06 2.06-.94-2.06-.94-.94-2.06-.94 2.06-2.06.94zm-11 1L8.5 8.5l.94-2.06 2.06-.94-2.06-.94L8.5 2.5l-.94 2.06-2.06.94zm10 10l.94 2.06.94-2.06 2.06-.94-2.06-.94-.94-2.06-.94 2.06-2.06.94z\"/><path d=\"M17.41 7.96l-1.37-1.37c-.4-.4-.92-.59-1.43-.59-.52 0-1.04.2-1.43.59L10.3 9.45l-7.72 7.72c-.78.78-.78 2.05 0 2.83L4 21.41c.39.39.9.59 1.41.59.51 0 1.02-.2 1.41-.59l7.78-7.78 2.81-2.81c.8-.78.8-2.07 0-2.86zM5.41 20L4 18.59l7.72-7.72 1.47 1.35L5.41 20z\"/>\n",
              "  </svg>\n",
              "      </button>\n",
              "      \n",
              "  <style>\n",
              "    .colab-df-container {\n",
              "      display:flex;\n",
              "      flex-wrap:wrap;\n",
              "      gap: 12px;\n",
              "    }\n",
              "\n",
              "    .colab-df-convert {\n",
              "      background-color: #E8F0FE;\n",
              "      border: none;\n",
              "      border-radius: 50%;\n",
              "      cursor: pointer;\n",
              "      display: none;\n",
              "      fill: #1967D2;\n",
              "      height: 32px;\n",
              "      padding: 0 0 0 0;\n",
              "      width: 32px;\n",
              "    }\n",
              "\n",
              "    .colab-df-convert:hover {\n",
              "      background-color: #E2EBFA;\n",
              "      box-shadow: 0px 1px 2px rgba(60, 64, 67, 0.3), 0px 1px 3px 1px rgba(60, 64, 67, 0.15);\n",
              "      fill: #174EA6;\n",
              "    }\n",
              "\n",
              "    [theme=dark] .colab-df-convert {\n",
              "      background-color: #3B4455;\n",
              "      fill: #D2E3FC;\n",
              "    }\n",
              "\n",
              "    [theme=dark] .colab-df-convert:hover {\n",
              "      background-color: #434B5C;\n",
              "      box-shadow: 0px 1px 3px 1px rgba(0, 0, 0, 0.15);\n",
              "      filter: drop-shadow(0px 1px 2px rgba(0, 0, 0, 0.3));\n",
              "      fill: #FFFFFF;\n",
              "    }\n",
              "  </style>\n",
              "\n",
              "      <script>\n",
              "        const buttonEl =\n",
              "          document.querySelector('#df-5f9eee3b-c6ab-42e2-965e-d1519ffc0623 button.colab-df-convert');\n",
              "        buttonEl.style.display =\n",
              "          google.colab.kernel.accessAllowed ? 'block' : 'none';\n",
              "\n",
              "        async function convertToInteractive(key) {\n",
              "          const element = document.querySelector('#df-5f9eee3b-c6ab-42e2-965e-d1519ffc0623');\n",
              "          const dataTable =\n",
              "            await google.colab.kernel.invokeFunction('convertToInteractive',\n",
              "                                                     [key], {});\n",
              "          if (!dataTable) return;\n",
              "\n",
              "          const docLinkHtml = 'Like what you see? Visit the ' +\n",
              "            '<a target=\"_blank\" href=https://colab.research.google.com/notebooks/data_table.ipynb>data table notebook</a>'\n",
              "            + ' to learn more about interactive tables.';\n",
              "          element.innerHTML = '';\n",
              "          dataTable['output_type'] = 'display_data';\n",
              "          await google.colab.output.renderOutput(dataTable, element);\n",
              "          const docLink = document.createElement('div');\n",
              "          docLink.innerHTML = docLinkHtml;\n",
              "          element.appendChild(docLink);\n",
              "        }\n",
              "      </script>\n",
              "    </div>\n",
              "  </div>\n",
              "  "
            ],
            "text/plain": [
              "     sl_no  gender  ssc_p  ssc_b  ...  mba_p  status    salary  cluster\n",
              "0        1       1  67.00      1  ...  58.80       1  270000.0       -1\n",
              "1        2       1  79.33      0  ...  66.28       1  200000.0       -1\n",
              "2        3       1  65.00      0  ...  57.80       1  250000.0       -1\n",
              "3        4       1  56.00      0  ...  59.43       0       NaN        0\n",
              "4        5       1  85.80      0  ...  55.50       1  425000.0       -1\n",
              "..     ...     ...    ...    ...  ...    ...     ...       ...      ...\n",
              "210    211       1  80.60      1  ...  74.49       1  400000.0       -1\n",
              "211    212       1  58.00      1  ...  53.62       1  275000.0       -1\n",
              "212    213       1  67.00      1  ...  69.72       1  295000.0       -1\n",
              "213    214       0  74.00      1  ...  60.23       1  204000.0       -1\n",
              "214    215       1  62.00      0  ...  60.22       0       NaN        2\n",
              "\n",
              "[215 rows x 16 columns]"
            ]
          },
          "metadata": {},
          "execution_count": 62
        }
      ]
    },
    {
      "cell_type": "code",
      "source": [
        "Train_data[\"degree_p\"] = Train_data[[\"degree_p\"]]\n",
        "Train_data[\"specialisation\"] = Train_data[[\"specialisation\"]]\n",
        "Train_data = Train_data[[\"degree_p\", \"specialisation\"]]\n",
        "print(Train_data.head())"
      ],
      "metadata": {
        "id": "TLnyC8qnjYf9"
      },
      "execution_count": null,
      "outputs": []
    },
    {
      "cell_type": "markdown",
      "source": [
        "### **Model training**"
      ],
      "metadata": {
        "id": "u4KoMj9kkUWk"
      }
    },
    {
      "cell_type": "code",
      "source": [
        "from sklearn.cluster import AgglomerativeClustering\n",
        "model = AgglomerativeClustering()\n",
        "model.fit(Train_data)\n",
        "pred = model.fit_predict(Train_data)\n",
        "plt.style.use('seaborn-whitegrid')\n",
        "plt.figure(figsize=(12, 10))\n",
        "plt.scatter(Train_data[\"degree_p\"], Train_data[\"specialisation\"], c=pred, cmap='rainbow', alpha=0.9)\n",
        "plt.show()"
      ],
      "metadata": {
        "id": "OP78T2j0kbIk"
      },
      "execution_count": null,
      "outputs": []
    },
    {
      "cell_type": "markdown",
      "source": [
        "## **BIRCH Clustering**"
      ],
      "metadata": {
        "id": "d5F4dKq0mZbc"
      }
    },
    {
      "cell_type": "markdown",
      "source": [
        "### **Model Training**"
      ],
      "metadata": {
        "id": "WZHU6ARNmoJo"
      }
    },
    {
      "cell_type": "code",
      "source": [
        "from sklearn.cluster import Birch\n",
        "model = Birch(branching_factor=30, n_clusters=5, threshold=2.5)\n",
        "model.fit(Train_data)\n",
        "pred = model.predict(Train_data)\n",
        "plt.scatter(Train_data[\"degree_p\"], Train_data[\"specialisation\"], c=pred, cmap='rainbow', alpha=0.5, edgecolors='b')\n",
        "plt.show()"
      ],
      "metadata": {
        "id": "dZmZdnPymuX5"
      },
      "execution_count": null,
      "outputs": []
    },
    {
      "cell_type": "markdown",
      "source": [
        "### **Mean Shift Clustering**"
      ],
      "metadata": {
        "id": "TguuEkcrpP_w"
      }
    },
    {
      "cell_type": "markdown",
      "source": [
        "### **Model Training**"
      ],
      "metadata": {
        "id": "pzdlJrLTpZ09"
      }
    },
    {
      "cell_type": "code",
      "source": [
        "from sklearn.cluster import MeanShift\n",
        "model = MeanShift(bandwidth=2)\n",
        "model.fit(Train_data)\n",
        "pred = model.fit_predict(Train_data)\n",
        "plt.style.use('seaborn-whitegrid')\n",
        "plt.figure(figsize=(12, 10))\n",
        "plt.scatter(Train_data[\"degree_p\"], Train_data[\"specialisation\"], c=pred, cmap='rainbow', alpha=0.9)\n",
        "plt.show()"
      ],
      "metadata": {
        "id": "YRIgszg1pske"
      },
      "execution_count": null,
      "outputs": []
    },
    {
      "cell_type": "markdown",
      "source": [
        "## **t-SNE**"
      ],
      "metadata": {
        "id": "zfxdno9ntwmi"
      }
    },
    {
      "cell_type": "markdown",
      "source": [
        "### **Import library**"
      ],
      "metadata": {
        "id": "USAwDTZBuBMr"
      }
    },
    {
      "cell_type": "code",
      "source": [
        "from sklearn.manifold import TSNE\n",
        "import plotly.express as px"
      ],
      "metadata": {
        "id": "rvWOKyiquHai"
      },
      "execution_count": null,
      "outputs": []
    },
    {
      "cell_type": "markdown",
      "source": [
        "### **Data Preprocessing**"
      ],
      "metadata": {
        "id": "ZDGYnvucxZmX"
      }
    },
    {
      "cell_type": "code",
      "source": [
        "selected_cols=[\"gender\",\"ssc_p\",\"ssc_b\",\"hsc_p\",\"hsc_b\",\"hsc_s\",\"degree_p\",\"degree_t\",\"workex\",\"etest_p\",\"mba_p\",\"status\",\"salary\"]\n",
        "cluster_data=MiceImputed.loc[:,selected_cols]"
      ],
      "metadata": {
        "id": "9yWODDzhwoOS"
      },
      "execution_count": null,
      "outputs": []
    },
    {
      "cell_type": "code",
      "source": [
        "MiceImputed"
      ],
      "metadata": {
        "id": "IiPmJIc8xA0X"
      },
      "execution_count": null,
      "outputs": []
    },
    {
      "cell_type": "markdown",
      "source": [
        "### **Model Training**"
      ],
      "metadata": {
        "id": "eij4rq1ixn7t"
      }
    },
    {
      "cell_type": "code",
      "source": [
        "\n",
        "tsne = TSNE(n_components=2, perplexity=20, random_state=1000)\n",
        "projections = tsne.fit_transform(cluster_data)\n",
        "\n",
        "fig = px.scatter(\n",
        "    projections, x=0, y=1,\n",
        "    color=MiceImputed.specialisation, labels={'color': 'specialisation'}\n",
        ")\n",
        "fig.show()"
      ],
      "metadata": {
        "colab": {
          "base_uri": "https://localhost:8080/",
          "height": 542
        },
        "id": "amcvpe7BuNIq",
        "outputId": "3f712903-d4bb-4601-eb02-04557d441560"
      },
      "execution_count": null,
      "outputs": [
        {
          "output_type": "display_data",
          "data": {
            "text/html": [
              "<html>\n",
              "<head><meta charset=\"utf-8\" /></head>\n",
              "<body>\n",
              "    <div>\n",
              "            <script src=\"https://cdnjs.cloudflare.com/ajax/libs/mathjax/2.7.5/MathJax.js?config=TeX-AMS-MML_SVG\"></script><script type=\"text/javascript\">if (window.MathJax) {MathJax.Hub.Config({SVG: {font: \"STIX-Web\"}});}</script>\n",
              "                <script type=\"text/javascript\">window.PlotlyConfig = {MathJaxConfig: 'local'};</script>\n",
              "        <script src=\"https://cdn.plot.ly/plotly-latest.min.js\"></script>    \n",
              "            <div id=\"0f57ef7e-cafd-43ca-a6a6-3d6b0324cde3\" class=\"plotly-graph-div\" style=\"height:525px; width:100%;\"></div>\n",
              "            <script type=\"text/javascript\">\n",
              "                \n",
              "                    window.PLOTLYENV=window.PLOTLYENV || {};\n",
              "                    \n",
              "                if (document.getElementById(\"0f57ef7e-cafd-43ca-a6a6-3d6b0324cde3\")) {\n",
              "                    Plotly.newPlot(\n",
              "                        '0f57ef7e-cafd-43ca-a6a6-3d6b0324cde3',\n",
              "                        [{\"hoverlabel\": {\"namelength\": 0}, \"hovertemplate\": \"0=%{x}<br>1=%{y}<br>specialisation=%{marker.color}\", \"legendgroup\": \"\", \"marker\": {\"color\": [1.0, 0.0, 0.0, 1.0, 0.0, 0.0, 0.0, 0.0, 0.0, 0.0, 1.0, 0.0, 1.0, 0.0, 1.0, 0.0, 0.0, 0.0, 1.0, 0.0, 1.0, 0.0, 1.0, 0.0, 0.0, 0.0, 0.0, 1.0, 0.0, 0.0, 1.0, 1.0, 1.0, 0.0, 1.0, 1.0, 0.0, 1.0, 1.0, 0.0, 0.0, 1.0, 0.0, 1.0, 0.0, 1.0, 1.0, 0.0, 0.0, 1.0, 1.0, 1.0, 1.0, 1.0, 1.0, 1.0, 0.0, 0.0, 0.0, 0.0, 0.0, 0.0, 0.0, 1.0, 0.0, 1.0, 1.0, 0.0, 1.0, 0.0, 0.0, 0.0, 0.0, 0.0, 0.0, 1.0, 0.0, 0.0, 0.0, 1.0, 1.0, 0.0, 0.0, 0.0, 0.0, 0.0, 0.0, 1.0, 1.0, 1.0, 0.0, 1.0, 0.0, 1.0, 0.0, 0.0, 0.0, 0.0, 0.0, 0.0, 1.0, 1.0, 0.0, 1.0, 1.0, 1.0, 0.0, 1.0, 0.0, 1.0, 1.0, 1.0, 1.0, 0.0, 1.0, 0.0, 0.0, 0.0, 1.0, 0.0, 1.0, 1.0, 0.0, 1.0, 1.0, 0.0, 0.0, 1.0, 1.0, 0.0, 0.0, 0.0, 1.0, 1.0, 0.0, 1.0, 0.0, 1.0, 0.0, 0.0, 0.0, 1.0, 0.0, 0.0, 0.0, 1.0, 1.0, 0.0, 0.0, 1.0, 0.0, 0.0, 0.0, 0.0, 0.0, 1.0, 1.0, 0.0, 0.0, 1.0, 1.0, 1.0, 0.0, 0.0, 0.0, 0.0, 1.0, 0.0, 1.0, 1.0, 1.0, 0.0, 1.0, 1.0, 0.0, 1.0, 1.0, 0.0, 1.0, 1.0, 0.0, 1.0, 0.0, 1.0, 1.0, 1.0, 0.0, 0.0, 0.0, 0.0, 0.0, 0.0, 0.0, 1.0, 0.0, 1.0, 0.0, 1.0, 1.0, 1.0, 0.0, 1.0, 1.0, 1.0, 0.0, 0.0, 0.0, 0.0, 1.0, 0.0, 0.0, 0.0, 0.0, 1.0, 1.0], \"coloraxis\": \"coloraxis\", \"symbol\": \"circle\"}, \"mode\": \"markers\", \"name\": \"\", \"showlegend\": false, \"type\": \"scatter\", \"x\": [-9.27021312713623, -22.79195785522461, -17.55877685546875, 10.750422477722168, 11.3480224609375, 13.09270191192627, 7.882689476013184, -16.64373016357422, -21.275976181030273, 11.604202270507812, -11.782015800476074, -17.967483520507812, 11.956544876098633, -22.52007293701172, 10.049396514892578, -23.26823616027832, 18.4735050201416, 11.098496437072754, 9.29953670501709, -20.91677474975586, -10.763191223144531, 12.24785327911377, 13.379678726196289, 18.574478149414062, 13.549903869628906, 9.492362022399902, -21.035856246948242, -10.542760848999023, 13.942216873168945, 7.060512542724609, -17.21575164794922, 9.982059478759766, -7.245364665985107, -11.78310775756836, 10.342742919921875, 19.00672721862793, 12.195194244384766, 15.778400421142578, -20.766321182250977, 11.681439399719238, 7.340206623077393, 8.761902809143066, 12.495025634765625, 19.548648834228516, -22.791954040527344, 9.063002586364746, 8.516454696655273, -23.102184295654297, -17.501983642578125, 12.00222110748291, -23.268238067626953, 9.839958190917969, 10.504919052124023, 10.829559326171875, -22.36192512512207, -21.942270278930664, -20.98537826538086, 13.379679679870605, -9.875990867614746, -10.542763710021973, -11.925803184509277, 19.385421752929688, -20.842548370361328, 9.329421997070312, -20.3115291595459, 8.06674575805664, -7.938653945922852, -7.938652515411377, 8.83554744720459, -7.947157859802246, 13.379678726196289, -20.651124954223633, -20.984703063964844, -22.033172607421875, 14.541287422180176, 7.452409744262695, -21.34139060974121, 10.197782516479492, -9.270193099975586, 7.996499061584473, -20.2369384765625, 19.021282196044922, 7.082961082458496, 19.457740783691406, 18.70088005065918, 11.90709400177002, -21.942276000976562, 9.797457695007324, -22.72944450378418, -22.729440689086914, 19.8756160736084, 10.23378849029541, -21.342018127441406, 8.585956573486328, -11.923734664916992, 11.453387260437012, 19.16986083984375, 6.318261623382568, -22.27682876586914, 12.015192985534668, 11.902542114257812, 12.67862319946289, 18.87009048461914, -21.074987411499023, 13.550198554992676, 6.875876426696777, 10.210284233093262, -23.268232345581055, 18.57699966430664, 6.808051586151123, -17.49593162536621, 11.986059188842773, -17.377944946289062, -6.946775436401367, -17.92214012145996, -22.228269577026367, 18.835668563842773, -20.22406768798828, -7.630326271057129, 9.019143104553223, 10.78393840789795, -17.009376525878906, -20.916723251342773, -20.236318588256836, -17.8676815032959, 13.945443153381348, -22.570690155029297, -16.852935791015625, 12.056623458862305, -17.490583419799805, 6.6969428062438965, 13.549924850463867, 18.364484786987305, -17.05539321899414, -18.049922943115234, -22.79193878173828, 7.473367691040039, -21.859254837036133, -17.5601863861084, -22.27695083618164, -10.76318359375, 10.16296100616455, -11.78194808959961, 18.738662719726562, 12.217768669128418, 12.053712844848633, -21.138954162597656, 18.805089950561523, -20.442014694213867, 11.016371726989746, 9.235578536987305, -9.272540092468262, -20.10603141784668, 14.303812980651855, -17.880474090576172, 11.843114852905273, -15.982739448547363, 18.189964294433594, 9.99030876159668, 11.888679504394531, 19.566389083862305, 12.379542350769043, 7.087709426879883, 10.197782516479492, -16.852890014648438, 6.539872646331787, -20.571517944335938, 9.443023681640625, 11.899923324584961, 13.273544311523438, 10.373481750488281, 10.075544357299805, 18.012657165527344, 10.914835929870605, 10.197782516479492, 6.716373443603516, -22.27688217163086, 9.303008079528809, 13.945443153381348, 8.022904396057129, -10.542763710021973, 10.124380111694336, 7.962462902069092, -7.630221843719482, 11.14200210571289, -16.64438247680664, 11.617103576660156, -6.945552825927734, 12.987203598022461, 5.762191295623779, 11.10165786743164, -11.031844139099121, -9.270210266113281, 17.98285484313965, 11.793536186218262, -8.041860580444336, -18.032745361328125, -11.781878471374512, 6.37545919418335, -10.763172149658203, 18.139196395874023, 7.475794315338135, -20.1063289642334, -11.923739433288574, -22.570682525634766, -17.094512939453125, 8.122145652770996, 19.381364822387695, 6.651900768280029, -22.551971435546875, 11.90709400177002, -8.043817520141602, 19.252389907836914, -22.671598434448242, 7.001495838165283], \"xaxis\": \"x\", \"y\": [-9.450520515441895, 25.393962860107422, -3.627617359161377, -17.838165283203125, 23.737445831298828, -17.38595199584961, -19.459880828857422, -3.723280906677246, 19.623397827148438, -13.260860443115234, -7.757145404815674, -3.3660709857940674, -19.182979583740234, 22.888521194458008, -16.824636459350586, 25.24350929260254, 17.886762619018555, -13.586871147155762, -13.725143432617188, 18.27170181274414, -8.802704811096191, 23.369165420532227, 22.48922348022461, 19.50302505493164, 22.76495933532715, -18.07260513305664, 17.201011657714844, -8.455526351928711, 22.320653915405273, -16.88479995727539, -3.2296271324157715, -14.6483793258667, -10.520689964294434, -7.758098125457764, -17.266389846801758, 18.31134796142578, -17.18324851989746, 21.022674560546875, 17.360088348388672, 23.717575073242188, -11.836786270141602, -12.854120254516602, -16.989553451538086, 19.58673095703125, 25.393962860107422, -12.50331974029541, -12.948905944824219, 24.79288101196289, -2.388014078140259, -16.941265106201172, 25.243507385253906, -18.201011657714844, -19.409029006958008, 23.790884017944336, 23.295198440551758, 22.603450775146484, 17.216272354125977, 22.489225387573242, -9.106438636779785, -8.455510139465332, -7.973337173461914, 18.045000076293945, 16.68471908569336, -13.907489776611328, 16.73318099975586, -16.82210922241211, -10.073843955993652, -10.073844909667969, -15.412631034851074, -10.08810043334961, 22.48922348022461, 16.638355255126953, 16.831872940063477, 23.030529022216797, 21.90113639831543, -14.329615592956543, 19.86203956604004, 23.765119552612305, -9.450533866882324, -13.664318084716797, 17.399141311645508, 19.25076675415039, -14.751985549926758, 19.004833221435547, 17.71984100341797, 23.317657470703125, 22.60344886779785, -16.809274673461914, 24.127351760864258, 24.127357482910156, 19.3419132232666, -18.354307174682617, 19.863664627075195, -18.100435256958008, -7.979104042053223, 23.716339111328125, 18.11309242248535, -15.389763832092285, 22.48697280883789, -12.938414573669434, -19.251001358032227, 23.106918334960938, 17.7696475982666, 17.07691764831543, 22.765029907226562, -16.700870513916016, -17.194129943847656, 25.243526458740234, 18.756322860717773, -17.271085739135742, -2.3878014087677, -18.509870529174805, -3.5127341747283936, -10.669934272766113, -3.4409797191619873, 23.335615158081055, 19.634958267211914, 17.388004302978516, -10.348923683166504, 22.998626708984375, -16.70039176940918, -2.579833507537842, 18.271657943725586, 17.398799896240234, -2.5789756774902344, 22.32545280456543, 24.178028106689453, -2.8653037548065186, 23.65706443786621, -2.9740099906921387, -15.938549041748047, 22.76498794555664, 18.38689422607422, -3.1048033237457275, -2.9067635536193848, 25.393962860107422, -18.129314422607422, 21.609600067138672, -3.6278975009918213, 22.486955642700195, -8.802698135375977, -13.37989330291748, -7.757026195526123, 19.29522132873535, -18.137880325317383, 23.655437469482422, 19.14299774169922, 18.78017807006836, 16.656259536743164, -19.0638427734375, 23.1440372467041, -9.456429481506348, 16.971357345581055, 22.074016571044922, -2.5859310626983643, -13.251982688903809, -4.316957950592041, 19.353628158569336, -13.396599769592285, -18.136152267456055, 18.595460891723633, -18.28388023376465, -11.630602836608887, 23.765119552612305, -2.8650097846984863, -14.163535118103027, 17.4189510345459, -12.47207260131836, -18.44869613647461, -18.257247924804688, -12.922581672668457, -11.63683032989502, 18.998903274536133, -18.113094329833984, 23.765119552612305, -15.871968269348145, 22.48695945739746, 23.18446159362793, 22.325450897216797, -13.271171569824219, -8.455524444580078, -13.997440338134766, -17.91462516784668, -10.348411560058594, -14.192364692687988, -3.7253756523132324, -14.025720596313477, -10.671936988830566, -17.93505096435547, -15.20106029510498, -12.806636810302734, -8.416833877563477, -9.45052719116211, 18.62224769592285, -18.646528244018555, -10.277170181274414, -2.9945263862609863, -7.7569146156311035, -14.916872024536133, -8.802712440490723, 19.086997985839844, -17.511594772338867, 16.985145568847656, -7.979107856750488, 24.178030014038086, -2.501171588897705, -16.976964950561523, 19.287832260131836, -17.72277069091797, 23.23473358154297, 23.317657470703125, -10.280913352966309, 16.8054256439209, 24.93683433532715, -16.3799991607666], \"yaxis\": \"y\"}],\n",
              "                        {\"coloraxis\": {\"colorbar\": {\"title\": {\"text\": \"specialisation\"}}, \"colorscale\": [[0.0, \"#0d0887\"], [0.1111111111111111, \"#46039f\"], [0.2222222222222222, \"#7201a8\"], [0.3333333333333333, \"#9c179e\"], [0.4444444444444444, \"#bd3786\"], [0.5555555555555556, \"#d8576b\"], [0.6666666666666666, \"#ed7953\"], [0.7777777777777778, \"#fb9f3a\"], [0.8888888888888888, \"#fdca26\"], [1.0, \"#f0f921\"]]}, \"legend\": {\"tracegroupgap\": 0}, \"margin\": {\"t\": 60}, \"template\": {\"data\": {\"bar\": [{\"error_x\": {\"color\": \"#2a3f5f\"}, \"error_y\": {\"color\": \"#2a3f5f\"}, \"marker\": {\"line\": {\"color\": \"#E5ECF6\", \"width\": 0.5}}, \"type\": \"bar\"}], \"barpolar\": [{\"marker\": {\"line\": {\"color\": \"#E5ECF6\", \"width\": 0.5}}, \"type\": \"barpolar\"}], \"carpet\": [{\"aaxis\": {\"endlinecolor\": \"#2a3f5f\", \"gridcolor\": \"white\", \"linecolor\": \"white\", \"minorgridcolor\": \"white\", \"startlinecolor\": \"#2a3f5f\"}, \"baxis\": {\"endlinecolor\": \"#2a3f5f\", \"gridcolor\": \"white\", \"linecolor\": \"white\", \"minorgridcolor\": \"white\", \"startlinecolor\": \"#2a3f5f\"}, \"type\": \"carpet\"}], \"choropleth\": [{\"colorbar\": {\"outlinewidth\": 0, \"ticks\": \"\"}, \"type\": \"choropleth\"}], \"contour\": [{\"colorbar\": {\"outlinewidth\": 0, \"ticks\": \"\"}, \"colorscale\": [[0.0, \"#0d0887\"], [0.1111111111111111, \"#46039f\"], [0.2222222222222222, \"#7201a8\"], [0.3333333333333333, \"#9c179e\"], [0.4444444444444444, \"#bd3786\"], [0.5555555555555556, \"#d8576b\"], [0.6666666666666666, \"#ed7953\"], [0.7777777777777778, \"#fb9f3a\"], [0.8888888888888888, \"#fdca26\"], [1.0, \"#f0f921\"]], \"type\": \"contour\"}], \"contourcarpet\": [{\"colorbar\": {\"outlinewidth\": 0, \"ticks\": \"\"}, \"type\": \"contourcarpet\"}], \"heatmap\": [{\"colorbar\": {\"outlinewidth\": 0, \"ticks\": \"\"}, \"colorscale\": [[0.0, \"#0d0887\"], [0.1111111111111111, \"#46039f\"], [0.2222222222222222, \"#7201a8\"], [0.3333333333333333, \"#9c179e\"], [0.4444444444444444, \"#bd3786\"], [0.5555555555555556, \"#d8576b\"], [0.6666666666666666, \"#ed7953\"], [0.7777777777777778, \"#fb9f3a\"], [0.8888888888888888, \"#fdca26\"], [1.0, \"#f0f921\"]], \"type\": \"heatmap\"}], \"heatmapgl\": [{\"colorbar\": {\"outlinewidth\": 0, \"ticks\": \"\"}, \"colorscale\": [[0.0, \"#0d0887\"], [0.1111111111111111, \"#46039f\"], [0.2222222222222222, \"#7201a8\"], [0.3333333333333333, \"#9c179e\"], [0.4444444444444444, \"#bd3786\"], [0.5555555555555556, \"#d8576b\"], [0.6666666666666666, \"#ed7953\"], [0.7777777777777778, \"#fb9f3a\"], [0.8888888888888888, \"#fdca26\"], [1.0, \"#f0f921\"]], \"type\": \"heatmapgl\"}], \"histogram\": [{\"marker\": {\"colorbar\": {\"outlinewidth\": 0, \"ticks\": \"\"}}, \"type\": \"histogram\"}], \"histogram2d\": [{\"colorbar\": {\"outlinewidth\": 0, \"ticks\": \"\"}, \"colorscale\": [[0.0, \"#0d0887\"], [0.1111111111111111, \"#46039f\"], [0.2222222222222222, \"#7201a8\"], [0.3333333333333333, \"#9c179e\"], [0.4444444444444444, \"#bd3786\"], [0.5555555555555556, \"#d8576b\"], [0.6666666666666666, \"#ed7953\"], [0.7777777777777778, \"#fb9f3a\"], [0.8888888888888888, \"#fdca26\"], [1.0, \"#f0f921\"]], \"type\": \"histogram2d\"}], \"histogram2dcontour\": [{\"colorbar\": {\"outlinewidth\": 0, \"ticks\": \"\"}, \"colorscale\": [[0.0, \"#0d0887\"], [0.1111111111111111, \"#46039f\"], [0.2222222222222222, \"#7201a8\"], [0.3333333333333333, \"#9c179e\"], [0.4444444444444444, \"#bd3786\"], [0.5555555555555556, \"#d8576b\"], [0.6666666666666666, \"#ed7953\"], [0.7777777777777778, \"#fb9f3a\"], [0.8888888888888888, \"#fdca26\"], [1.0, \"#f0f921\"]], \"type\": \"histogram2dcontour\"}], \"mesh3d\": [{\"colorbar\": {\"outlinewidth\": 0, \"ticks\": \"\"}, \"type\": \"mesh3d\"}], \"parcoords\": [{\"line\": {\"colorbar\": {\"outlinewidth\": 0, \"ticks\": \"\"}}, \"type\": \"parcoords\"}], \"pie\": [{\"automargin\": true, \"type\": \"pie\"}], \"scatter\": [{\"marker\": {\"colorbar\": {\"outlinewidth\": 0, \"ticks\": \"\"}}, \"type\": \"scatter\"}], \"scatter3d\": [{\"line\": {\"colorbar\": {\"outlinewidth\": 0, \"ticks\": \"\"}}, \"marker\": {\"colorbar\": {\"outlinewidth\": 0, \"ticks\": \"\"}}, \"type\": \"scatter3d\"}], \"scattercarpet\": [{\"marker\": {\"colorbar\": {\"outlinewidth\": 0, \"ticks\": \"\"}}, \"type\": \"scattercarpet\"}], \"scattergeo\": [{\"marker\": {\"colorbar\": {\"outlinewidth\": 0, \"ticks\": \"\"}}, \"type\": \"scattergeo\"}], \"scattergl\": [{\"marker\": {\"colorbar\": {\"outlinewidth\": 0, \"ticks\": \"\"}}, \"type\": \"scattergl\"}], \"scattermapbox\": [{\"marker\": {\"colorbar\": {\"outlinewidth\": 0, \"ticks\": \"\"}}, \"type\": \"scattermapbox\"}], \"scatterpolar\": [{\"marker\": {\"colorbar\": {\"outlinewidth\": 0, \"ticks\": \"\"}}, \"type\": \"scatterpolar\"}], \"scatterpolargl\": [{\"marker\": {\"colorbar\": {\"outlinewidth\": 0, \"ticks\": \"\"}}, \"type\": \"scatterpolargl\"}], \"scatterternary\": [{\"marker\": {\"colorbar\": {\"outlinewidth\": 0, \"ticks\": \"\"}}, \"type\": \"scatterternary\"}], \"surface\": [{\"colorbar\": {\"outlinewidth\": 0, \"ticks\": \"\"}, \"colorscale\": [[0.0, \"#0d0887\"], [0.1111111111111111, \"#46039f\"], [0.2222222222222222, \"#7201a8\"], [0.3333333333333333, \"#9c179e\"], [0.4444444444444444, \"#bd3786\"], [0.5555555555555556, \"#d8576b\"], [0.6666666666666666, \"#ed7953\"], [0.7777777777777778, \"#fb9f3a\"], [0.8888888888888888, \"#fdca26\"], [1.0, \"#f0f921\"]], \"type\": \"surface\"}], \"table\": [{\"cells\": {\"fill\": {\"color\": \"#EBF0F8\"}, \"line\": {\"color\": \"white\"}}, \"header\": {\"fill\": {\"color\": \"#C8D4E3\"}, \"line\": {\"color\": \"white\"}}, \"type\": \"table\"}]}, \"layout\": {\"annotationdefaults\": {\"arrowcolor\": \"#2a3f5f\", \"arrowhead\": 0, \"arrowwidth\": 1}, \"coloraxis\": {\"colorbar\": {\"outlinewidth\": 0, \"ticks\": \"\"}}, \"colorscale\": {\"diverging\": [[0, \"#8e0152\"], [0.1, \"#c51b7d\"], [0.2, \"#de77ae\"], [0.3, \"#f1b6da\"], [0.4, \"#fde0ef\"], [0.5, \"#f7f7f7\"], [0.6, \"#e6f5d0\"], [0.7, \"#b8e186\"], [0.8, \"#7fbc41\"], [0.9, \"#4d9221\"], [1, \"#276419\"]], \"sequential\": [[0.0, \"#0d0887\"], [0.1111111111111111, \"#46039f\"], [0.2222222222222222, \"#7201a8\"], [0.3333333333333333, \"#9c179e\"], [0.4444444444444444, \"#bd3786\"], [0.5555555555555556, \"#d8576b\"], [0.6666666666666666, \"#ed7953\"], [0.7777777777777778, \"#fb9f3a\"], [0.8888888888888888, \"#fdca26\"], [1.0, \"#f0f921\"]], \"sequentialminus\": [[0.0, \"#0d0887\"], [0.1111111111111111, \"#46039f\"], [0.2222222222222222, \"#7201a8\"], [0.3333333333333333, \"#9c179e\"], [0.4444444444444444, \"#bd3786\"], [0.5555555555555556, \"#d8576b\"], [0.6666666666666666, \"#ed7953\"], [0.7777777777777778, \"#fb9f3a\"], [0.8888888888888888, \"#fdca26\"], [1.0, \"#f0f921\"]]}, \"colorway\": [\"#636efa\", \"#EF553B\", \"#00cc96\", \"#ab63fa\", \"#FFA15A\", \"#19d3f3\", \"#FF6692\", \"#B6E880\", \"#FF97FF\", \"#FECB52\"], \"font\": {\"color\": \"#2a3f5f\"}, \"geo\": {\"bgcolor\": \"white\", \"lakecolor\": \"white\", \"landcolor\": \"#E5ECF6\", \"showlakes\": true, \"showland\": true, \"subunitcolor\": \"white\"}, \"hoverlabel\": {\"align\": \"left\"}, \"hovermode\": \"closest\", \"mapbox\": {\"style\": \"light\"}, \"paper_bgcolor\": \"white\", \"plot_bgcolor\": \"#E5ECF6\", \"polar\": {\"angularaxis\": {\"gridcolor\": \"white\", \"linecolor\": \"white\", \"ticks\": \"\"}, \"bgcolor\": \"#E5ECF6\", \"radialaxis\": {\"gridcolor\": \"white\", \"linecolor\": \"white\", \"ticks\": \"\"}}, \"scene\": {\"xaxis\": {\"backgroundcolor\": \"#E5ECF6\", \"gridcolor\": \"white\", \"gridwidth\": 2, \"linecolor\": \"white\", \"showbackground\": true, \"ticks\": \"\", \"zerolinecolor\": \"white\"}, \"yaxis\": {\"backgroundcolor\": \"#E5ECF6\", \"gridcolor\": \"white\", \"gridwidth\": 2, \"linecolor\": \"white\", \"showbackground\": true, \"ticks\": \"\", \"zerolinecolor\": \"white\"}, \"zaxis\": {\"backgroundcolor\": \"#E5ECF6\", \"gridcolor\": \"white\", \"gridwidth\": 2, \"linecolor\": \"white\", \"showbackground\": true, \"ticks\": \"\", \"zerolinecolor\": \"white\"}}, \"shapedefaults\": {\"line\": {\"color\": \"#2a3f5f\"}}, \"ternary\": {\"aaxis\": {\"gridcolor\": \"white\", \"linecolor\": \"white\", \"ticks\": \"\"}, \"baxis\": {\"gridcolor\": \"white\", \"linecolor\": \"white\", \"ticks\": \"\"}, \"bgcolor\": \"#E5ECF6\", \"caxis\": {\"gridcolor\": \"white\", \"linecolor\": \"white\", \"ticks\": \"\"}}, \"title\": {\"x\": 0.05}, \"xaxis\": {\"automargin\": true, \"gridcolor\": \"white\", \"linecolor\": \"white\", \"ticks\": \"\", \"title\": {\"standoff\": 15}, \"zerolinecolor\": \"white\", \"zerolinewidth\": 2}, \"yaxis\": {\"automargin\": true, \"gridcolor\": \"white\", \"linecolor\": \"white\", \"ticks\": \"\", \"title\": {\"standoff\": 15}, \"zerolinecolor\": \"white\", \"zerolinewidth\": 2}}}, \"xaxis\": {\"anchor\": \"y\", \"domain\": [0.0, 1.0], \"title\": {\"text\": \"0\"}}, \"yaxis\": {\"anchor\": \"x\", \"domain\": [0.0, 1.0], \"title\": {\"text\": \"1\"}}},\n",
              "                        {\"responsive\": true}\n",
              "                    ).then(function(){\n",
              "                            \n",
              "var gd = document.getElementById('0f57ef7e-cafd-43ca-a6a6-3d6b0324cde3');\n",
              "var x = new MutationObserver(function (mutations, observer) {{\n",
              "        var display = window.getComputedStyle(gd).display;\n",
              "        if (!display || display === 'none') {{\n",
              "            console.log([gd, 'removed!']);\n",
              "            Plotly.purge(gd);\n",
              "            observer.disconnect();\n",
              "        }}\n",
              "}});\n",
              "\n",
              "// Listen for the removal of the full notebook cells\n",
              "var notebookContainer = gd.closest('#notebook-container');\n",
              "if (notebookContainer) {{\n",
              "    x.observe(notebookContainer, {childList: true});\n",
              "}}\n",
              "\n",
              "// Listen for the clearing of the current output cell\n",
              "var outputEl = gd.closest('.output');\n",
              "if (outputEl) {{\n",
              "    x.observe(outputEl, {childList: true});\n",
              "}}\n",
              "\n",
              "                        })\n",
              "                };\n",
              "                \n",
              "            </script>\n",
              "        </div>\n",
              "</body>\n",
              "</html>"
            ]
          },
          "metadata": {}
        }
      ]
    },
    {
      "cell_type": "markdown",
      "source": [
        "## **Hierarchical Clustering**"
      ],
      "metadata": {
        "id": "m8p6Xvwyp5_I"
      }
    },
    {
      "cell_type": "markdown",
      "source": [
        "follows two approaches Divisive and Agglomerative. Each observation is considered a cluster and similar data points are grouped until they are fused, while Divisive works in the opposite direction[1]"
      ],
      "metadata": {
        "id": "nMnghb75qSGI"
      }
    },
    {
      "cell_type": "markdown",
      "source": [
        "### **Import Library**"
      ],
      "metadata": {
        "id": "QD6YEyPHzHiG"
      }
    },
    {
      "cell_type": "code",
      "source": [
        "import pandas as pd\n",
        "import numpy as np\n",
        "import matplotlib.pyplot as plt\n",
        "import seaborn as sns\n",
        "%matplotlib inline"
      ],
      "metadata": {
        "id": "EsFiXxZmzSjU"
      },
      "execution_count": null,
      "outputs": []
    },
    {
      "cell_type": "markdown",
      "source": [
        "### **Data Preprocessing**"
      ],
      "metadata": {
        "id": "J1VaLihEzb-D"
      }
    },
    {
      "cell_type": "code",
      "source": [
        "np.unique(MiceImputed.specialisation,return_counts=True)\n"
      ],
      "metadata": {
        "id": "sZjGVWqrziul"
      },
      "execution_count": null,
      "outputs": []
    },
    {
      "cell_type": "code",
      "source": [
        "# Import the whiten function\n",
        "from scipy.cluster.vq import whiten\n",
        "scaled_data = whiten(MiceImputed.to_numpy())\n"
      ],
      "metadata": {
        "id": "_VryAuRGz-gL"
      },
      "execution_count": null,
      "outputs": []
    },
    {
      "cell_type": "code",
      "source": [
        "pd.DataFrame(scaled_data).describe()"
      ],
      "metadata": {
        "id": "dlJPwrpI0hj5"
      },
      "execution_count": null,
      "outputs": []
    },
    {
      "cell_type": "code",
      "source": [
        "# Import the fcluster and linkage functions\n",
        "from scipy.cluster.hierarchy import fcluster, linkage\n",
        "# Use the linkage() function\n",
        "distance_matrix = linkage(scaled_data, method = 'ward', metric = 'euclidean')"
      ],
      "metadata": {
        "id": "kW-pNpxK0obC"
      },
      "execution_count": null,
      "outputs": []
    },
    {
      "cell_type": "code",
      "source": [
        "# Import the dendrogram function\n",
        "from scipy.cluster.hierarchy import dendrogram\n",
        "# Create a dendrogram\n",
        "dn = dendrogram(distance_matrix)\n",
        "# Display the dendogram\n",
        "plt.show()"
      ],
      "metadata": {
        "id": "Dox-muPF0tSE",
        "outputId": "f592f84f-0236-4fee-c155-1628de7ad555",
        "colab": {
          "base_uri": "https://localhost:8080/",
          "height": 297
        }
      },
      "execution_count": null,
      "outputs": [
        {
          "output_type": "display_data",
          "data": {
            "image/png": "[encoded data removed]",
            "text/plain": [
              "<Figure size 432x288 with 1 Axes>"
            ]
          },
          "metadata": {
            "needs_background": "light"
          }
        }
      ]
    },
    {
      "cell_type": "code",
      "source": [
        "# Assign cluster labels\n",
        "MiceImputed['cluster_labels'] = fcluster(distance_matrix, 3, criterion='maxclust')"
      ],
      "metadata": {
        "id": "GIP2kX4Y01cb"
      },
      "execution_count": null,
      "outputs": []
    },
    {
      "cell_type": "code",
      "source": [
        "MiceImputed"
      ],
      "metadata": {
        "id": "6YUr0KTo1eyZ",
        "colab": {
          "base_uri": "https://localhost:8080/",
          "height": 488
        },
        "outputId": "e21c36fa-84e3-41fc-9277-a6f345f979bd"
      },
      "execution_count": null,
      "outputs": [
        {
          "output_type": "execute_result",
          "data": {
            "text/html": [
              "\n",
              "  <div id=\"df-c0de031e-9aff-4511-b4b4-0229173dd7dc\">\n",
              "    <div class=\"colab-df-container\">\n",
              "      <div>\n",
              "<style scoped>\n",
              "    .dataframe tbody tr th:only-of-type {\n",
              "        vertical-align: middle;\n",
              "    }\n",
              "\n",
              "    .dataframe tbody tr th {\n",
              "        vertical-align: top;\n",
              "    }\n",
              "\n",
              "    .dataframe thead th {\n",
              "        text-align: right;\n",
              "    }\n",
              "</style>\n",
              "<table border=\"1\" class=\"dataframe\">\n",
              "  <thead>\n",
              "    <tr style=\"text-align: right;\">\n",
              "      <th></th>\n",
              "      <th>sl_no</th>\n",
              "      <th>gender</th>\n",
              "      <th>ssc_p</th>\n",
              "      <th>ssc_b</th>\n",
              "      <th>hsc_p</th>\n",
              "      <th>hsc_b</th>\n",
              "      <th>hsc_s</th>\n",
              "      <th>degree_p</th>\n",
              "      <th>degree_t</th>\n",
              "      <th>workex</th>\n",
              "      <th>etest_p</th>\n",
              "      <th>specialisation</th>\n",
              "      <th>mba_p</th>\n",
              "      <th>status</th>\n",
              "      <th>salary</th>\n",
              "      <th>cluster_labels</th>\n",
              "    </tr>\n",
              "  </thead>\n",
              "  <tbody>\n",
              "    <tr>\n",
              "      <th>0</th>\n",
              "      <td>1.0</td>\n",
              "      <td>1.0</td>\n",
              "      <td>67.00</td>\n",
              "      <td>1.0</td>\n",
              "      <td>91.00</td>\n",
              "      <td>1.0</td>\n",
              "      <td>1.0</td>\n",
              "      <td>58.00</td>\n",
              "      <td>2.0</td>\n",
              "      <td>0.0</td>\n",
              "      <td>55.0</td>\n",
              "      <td>1.0</td>\n",
              "      <td>58.80</td>\n",
              "      <td>1.0</td>\n",
              "      <td>270000.000000</td>\n",
              "      <td>3</td>\n",
              "    </tr>\n",
              "    <tr>\n",
              "      <th>1</th>\n",
              "      <td>2.0</td>\n",
              "      <td>1.0</td>\n",
              "      <td>79.33</td>\n",
              "      <td>0.0</td>\n",
              "      <td>78.33</td>\n",
              "      <td>1.0</td>\n",
              "      <td>2.0</td>\n",
              "      <td>77.48</td>\n",
              "      <td>2.0</td>\n",
              "      <td>1.0</td>\n",
              "      <td>86.5</td>\n",
              "      <td>0.0</td>\n",
              "      <td>66.28</td>\n",
              "      <td>1.0</td>\n",
              "      <td>200000.000000</td>\n",
              "      <td>2</td>\n",
              "    </tr>\n",
              "    <tr>\n",
              "      <th>2</th>\n",
              "      <td>3.0</td>\n",
              "      <td>1.0</td>\n",
              "      <td>65.00</td>\n",
              "      <td>0.0</td>\n",
              "      <td>68.00</td>\n",
              "      <td>0.0</td>\n",
              "      <td>0.0</td>\n",
              "      <td>64.00</td>\n",
              "      <td>0.0</td>\n",
              "      <td>0.0</td>\n",
              "      <td>75.0</td>\n",
              "      <td>0.0</td>\n",
              "      <td>57.80</td>\n",
              "      <td>1.0</td>\n",
              "      <td>250000.000000</td>\n",
              "      <td>3</td>\n",
              "    </tr>\n",
              "    <tr>\n",
              "      <th>3</th>\n",
              "      <td>4.0</td>\n",
              "      <td>1.0</td>\n",
              "      <td>56.00</td>\n",
              "      <td>0.0</td>\n",
              "      <td>52.00</td>\n",
              "      <td>0.0</td>\n",
              "      <td>2.0</td>\n",
              "      <td>52.00</td>\n",
              "      <td>2.0</td>\n",
              "      <td>0.0</td>\n",
              "      <td>66.0</td>\n",
              "      <td>1.0</td>\n",
              "      <td>59.43</td>\n",
              "      <td>0.0</td>\n",
              "      <td>288655.133065</td>\n",
              "      <td>1</td>\n",
              "    </tr>\n",
              "    <tr>\n",
              "      <th>4</th>\n",
              "      <td>5.0</td>\n",
              "      <td>1.0</td>\n",
              "      <td>85.80</td>\n",
              "      <td>0.0</td>\n",
              "      <td>73.60</td>\n",
              "      <td>0.0</td>\n",
              "      <td>1.0</td>\n",
              "      <td>73.30</td>\n",
              "      <td>0.0</td>\n",
              "      <td>0.0</td>\n",
              "      <td>96.8</td>\n",
              "      <td>0.0</td>\n",
              "      <td>55.50</td>\n",
              "      <td>1.0</td>\n",
              "      <td>425000.000000</td>\n",
              "      <td>3</td>\n",
              "    </tr>\n",
              "    <tr>\n",
              "      <th>...</th>\n",
              "      <td>...</td>\n",
              "      <td>...</td>\n",
              "      <td>...</td>\n",
              "      <td>...</td>\n",
              "      <td>...</td>\n",
              "      <td>...</td>\n",
              "      <td>...</td>\n",
              "      <td>...</td>\n",
              "      <td>...</td>\n",
              "      <td>...</td>\n",
              "      <td>...</td>\n",
              "      <td>...</td>\n",
              "      <td>...</td>\n",
              "      <td>...</td>\n",
              "      <td>...</td>\n",
              "      <td>...</td>\n",
              "    </tr>\n",
              "    <tr>\n",
              "      <th>210</th>\n",
              "      <td>211.0</td>\n",
              "      <td>1.0</td>\n",
              "      <td>80.60</td>\n",
              "      <td>1.0</td>\n",
              "      <td>82.00</td>\n",
              "      <td>1.0</td>\n",
              "      <td>1.0</td>\n",
              "      <td>77.60</td>\n",
              "      <td>0.0</td>\n",
              "      <td>0.0</td>\n",
              "      <td>91.0</td>\n",
              "      <td>0.0</td>\n",
              "      <td>74.49</td>\n",
              "      <td>1.0</td>\n",
              "      <td>400000.000000</td>\n",
              "      <td>3</td>\n",
              "    </tr>\n",
              "    <tr>\n",
              "      <th>211</th>\n",
              "      <td>212.0</td>\n",
              "      <td>1.0</td>\n",
              "      <td>58.00</td>\n",
              "      <td>1.0</td>\n",
              "      <td>60.00</td>\n",
              "      <td>1.0</td>\n",
              "      <td>2.0</td>\n",
              "      <td>72.00</td>\n",
              "      <td>2.0</td>\n",
              "      <td>0.0</td>\n",
              "      <td>74.0</td>\n",
              "      <td>0.0</td>\n",
              "      <td>53.62</td>\n",
              "      <td>1.0</td>\n",
              "      <td>275000.000000</td>\n",
              "      <td>1</td>\n",
              "    </tr>\n",
              "    <tr>\n",
              "      <th>212</th>\n",
              "      <td>213.0</td>\n",
              "      <td>1.0</td>\n",
              "      <td>67.00</td>\n",
              "      <td>1.0</td>\n",
              "      <td>67.00</td>\n",
              "      <td>1.0</td>\n",
              "      <td>1.0</td>\n",
              "      <td>73.00</td>\n",
              "      <td>0.0</td>\n",
              "      <td>1.0</td>\n",
              "      <td>59.0</td>\n",
              "      <td>0.0</td>\n",
              "      <td>69.72</td>\n",
              "      <td>1.0</td>\n",
              "      <td>295000.000000</td>\n",
              "      <td>3</td>\n",
              "    </tr>\n",
              "    <tr>\n",
              "      <th>213</th>\n",
              "      <td>214.0</td>\n",
              "      <td>0.0</td>\n",
              "      <td>74.00</td>\n",
              "      <td>1.0</td>\n",
              "      <td>66.00</td>\n",
              "      <td>1.0</td>\n",
              "      <td>1.0</td>\n",
              "      <td>58.00</td>\n",
              "      <td>0.0</td>\n",
              "      <td>0.0</td>\n",
              "      <td>70.0</td>\n",
              "      <td>1.0</td>\n",
              "      <td>60.23</td>\n",
              "      <td>1.0</td>\n",
              "      <td>204000.000000</td>\n",
              "      <td>1</td>\n",
              "    </tr>\n",
              "    <tr>\n",
              "      <th>214</th>\n",
              "      <td>215.0</td>\n",
              "      <td>1.0</td>\n",
              "      <td>62.00</td>\n",
              "      <td>0.0</td>\n",
              "      <td>58.00</td>\n",
              "      <td>1.0</td>\n",
              "      <td>2.0</td>\n",
              "      <td>53.00</td>\n",
              "      <td>0.0</td>\n",
              "      <td>0.0</td>\n",
              "      <td>89.0</td>\n",
              "      <td>1.0</td>\n",
              "      <td>60.22</td>\n",
              "      <td>0.0</td>\n",
              "      <td>288655.684269</td>\n",
              "      <td>1</td>\n",
              "    </tr>\n",
              "  </tbody>\n",
              "</table>\n",
              "<p>215 rows × 16 columns</p>\n",
              "</div>\n",
              "      <button class=\"colab-df-convert\" onclick=\"convertToInteractive('df-c0de031e-9aff-4511-b4b4-0229173dd7dc')\"\n",
              "              title=\"Convert this dataframe to an interactive table.\"\n",
              "              style=\"display:none;\">\n",
              "        \n",
              "  <svg xmlns=\"http://www.w3.org/2000/svg\" height=\"24px\"viewBox=\"0 0 24 24\"\n",
              "       width=\"24px\">\n",
              "    <path d=\"M0 0h24v24H0V0z\" fill=\"none\"/>\n",
              "    <path d=\"M18.56 5.44l.94 2.06.94-2.06 2.06-.94-2.06-.94-.94-2.06-.94 2.06-2.06.94zm-11 1L8.5 8.5l.94-2.06 2.06-.94-2.06-.94L8.5 2.5l-.94 2.06-2.06.94zm10 10l.94 2.06.94-2.06 2.06-.94-2.06-.94-.94-2.06-.94 2.06-2.06.94z\"/><path d=\"M17.41 7.96l-1.37-1.37c-.4-.4-.92-.59-1.43-.59-.52 0-1.04.2-1.43.59L10.3 9.45l-7.72 7.72c-.78.78-.78 2.05 0 2.83L4 21.41c.39.39.9.59 1.41.59.51 0 1.02-.2 1.41-.59l7.78-7.78 2.81-2.81c.8-.78.8-2.07 0-2.86zM5.41 20L4 18.59l7.72-7.72 1.47 1.35L5.41 20z\"/>\n",
              "  </svg>\n",
              "      </button>\n",
              "      \n",
              "  <style>\n",
              "    .colab-df-container {\n",
              "      display:flex;\n",
              "      flex-wrap:wrap;\n",
              "      gap: 12px;\n",
              "    }\n",
              "\n",
              "    .colab-df-convert {\n",
              "      background-color: #E8F0FE;\n",
              "      border: none;\n",
              "      border-radius: 50%;\n",
              "      cursor: pointer;\n",
              "      display: none;\n",
              "      fill: #1967D2;\n",
              "      height: 32px;\n",
              "      padding: 0 0 0 0;\n",
              "      width: 32px;\n",
              "    }\n",
              "\n",
              "    .colab-df-convert:hover {\n",
              "      background-color: #E2EBFA;\n",
              "      box-shadow: 0px 1px 2px rgba(60, 64, 67, 0.3), 0px 1px 3px 1px rgba(60, 64, 67, 0.15);\n",
              "      fill: #174EA6;\n",
              "    }\n",
              "\n",
              "    [theme=dark] .colab-df-convert {\n",
              "      background-color: #3B4455;\n",
              "      fill: #D2E3FC;\n",
              "    }\n",
              "\n",
              "    [theme=dark] .colab-df-convert:hover {\n",
              "      background-color: #434B5C;\n",
              "      box-shadow: 0px 1px 3px 1px rgba(0, 0, 0, 0.15);\n",
              "      filter: drop-shadow(0px 1px 2px rgba(0, 0, 0, 0.3));\n",
              "      fill: #FFFFFF;\n",
              "    }\n",
              "  </style>\n",
              "\n",
              "      <script>\n",
              "        const buttonEl =\n",
              "          document.querySelector('#df-c0de031e-9aff-4511-b4b4-0229173dd7dc button.colab-df-convert');\n",
              "        buttonEl.style.display =\n",
              "          google.colab.kernel.accessAllowed ? 'block' : 'none';\n",
              "\n",
              "        async function convertToInteractive(key) {\n",
              "          const element = document.querySelector('#df-c0de031e-9aff-4511-b4b4-0229173dd7dc');\n",
              "          const dataTable =\n",
              "            await google.colab.kernel.invokeFunction('convertToInteractive',\n",
              "                                                     [key], {});\n",
              "          if (!dataTable) return;\n",
              "\n",
              "          const docLinkHtml = 'Like what you see? Visit the ' +\n",
              "            '<a target=\"_blank\" href=https://colab.research.google.com/notebooks/data_table.ipynb>data table notebook</a>'\n",
              "            + ' to learn more about interactive tables.';\n",
              "          element.innerHTML = '';\n",
              "          dataTable['output_type'] = 'display_data';\n",
              "          await google.colab.output.renderOutput(dataTable, element);\n",
              "          const docLink = document.createElement('div');\n",
              "          docLink.innerHTML = docLinkHtml;\n",
              "          element.appendChild(docLink);\n",
              "        }\n",
              "      </script>\n",
              "    </div>\n",
              "  </div>\n",
              "  "
            ],
            "text/plain": [
              "     sl_no  gender  ssc_p  ssc_b  ...  mba_p  status         salary  cluster_labels\n",
              "0      1.0     1.0  67.00    1.0  ...  58.80     1.0  270000.000000               3\n",
              "1      2.0     1.0  79.33    0.0  ...  66.28     1.0  200000.000000               2\n",
              "2      3.0     1.0  65.00    0.0  ...  57.80     1.0  250000.000000               3\n",
              "3      4.0     1.0  56.00    0.0  ...  59.43     0.0  288655.133065               1\n",
              "4      5.0     1.0  85.80    0.0  ...  55.50     1.0  425000.000000               3\n",
              "..     ...     ...    ...    ...  ...    ...     ...            ...             ...\n",
              "210  211.0     1.0  80.60    1.0  ...  74.49     1.0  400000.000000               3\n",
              "211  212.0     1.0  58.00    1.0  ...  53.62     1.0  275000.000000               1\n",
              "212  213.0     1.0  67.00    1.0  ...  69.72     1.0  295000.000000               3\n",
              "213  214.0     0.0  74.00    1.0  ...  60.23     1.0  204000.000000               1\n",
              "214  215.0     1.0  62.00    0.0  ...  60.22     0.0  288655.684269               1\n",
              "\n",
              "[215 rows x 16 columns]"
            ]
          },
          "metadata": {},
          "execution_count": 42
        }
      ]
    },
    {
      "cell_type": "code",
      "source": [
        "MiceImputed['target'] = MiceImputed.specialisation\n",
        "fig, axes = plt.subplots(1, 2, figsize=(16,8))\n",
        "axes[0].scatter(MiceImputed[0], MiceImputed[1], c=MiceImputed['target'])\n",
        "axes[1].scatter(MiceImputed[0], MiceImputed[1], c=MiceImputed['cluster_labels'], cmap=plt.cm.Set1)\n",
        "axes[0].set_title('Actual', fontsize=18)\n",
        "axes[1].set_title('Hierarchical', fontsize=18)"
      ],
      "metadata": {
        "id": "WE9no1cK1CMJ"
      },
      "execution_count": null,
      "outputs": []
    },
    {
      "cell_type": "markdown",
      "source": [
        "### **Model Training**"
      ],
      "metadata": {
        "id": "NmI08cph0x-W"
      }
    },
    {
      "cell_type": "code",
      "source": [
        "#using the dendrogram and determine the number of clusters\n",
        "import scipy.cluster.hierarchy as sch\n",
        "dendrogram = sch.dendrogram(sch.linkage(x_normal, method = 'ward'))\n",
        "plt.title('Dendrogram')\n",
        "plt.xlabel('Customers')\n",
        "plt.ylabel('Euclidean Distance')\n",
        "plt.show()"
      ],
      "metadata": {
        "id": "6pcOTvGC1BHI"
      },
      "execution_count": null,
      "outputs": []
    },
    {
      "cell_type": "code",
      "source": [
        "#create the model to fit the hierarchical means clustering\n",
        "from sklearn.cluster import AgglomerativeClustering\n",
        "hc = AgglomerativeClustering(n_clusters = 5, affinity = \"euclidean\",\n",
        "                             linkage = 'ward')\n",
        "hc_pred = hc.fit_predict(x_normal)"
      ],
      "metadata": {
        "id": "vAOhVti22U4F"
      },
      "execution_count": null,
      "outputs": []
    },
    {
      "cell_type": "code",
      "source": [
        "#visualizing the clusters\n",
        "plt.scatter(x_normal[hc_pred==0,0], x_normal[hc_pred==0,1], s = 100, c = 'red',\n",
        "                                              label ='Cluster1')\n",
        "plt.scatter(x_normal[hc_pred==1,0], x_normal[hc_pred==1,1], s = 100, c = 'blue',\n",
        "                                              label ='Cluster2')\n",
        "plt.scatter(x_normal[hc_pred==2,0], x_normal[yhc_pred==2,1], s = 100, c = 'green',\n",
        "                                            label = 'Cluster3')\n",
        "plt.scatter(x_normal[hc_pred==3,0], x_normal[hc_pred==3,1], s = 100, c = 'cyan',\n",
        "                                             label ='Cluster4')\n",
        "plt.scatter(x_normal[hc_pred==4,0], x_normal[hc_pred==4,1], s = 100, c =\n",
        "                                    'magenta',label = 'Cluster5')\n",
        "plt.title('Clusters of the customers')\n",
        "plt.xlabel('Annual income (k$)')\n",
        "plt.ylabel('Spending SCore (1 - 100)')\n",
        "plt.legend()\n",
        "plt.show()"
      ],
      "metadata": {
        "id": "eENs1sjC2dHp"
      },
      "execution_count": null,
      "outputs": []
    },
    {
      "cell_type": "markdown",
      "source": [
        "### **Evaluating a clustering**"
      ],
      "metadata": {
        "id": "k0-byuyD2-_5"
      }
    },
    {
      "cell_type": "code",
      "source": [],
      "metadata": {
        "id": "Lx5wa0-Y3D4q"
      },
      "execution_count": null,
      "outputs": []
    },
    {
      "cell_type": "markdown",
      "source": [
        "## **Fuzzy C means Clustering**"
      ],
      "metadata": {
        "id": "Lthhi-v9qdfZ"
      }
    },
    {
      "cell_type": "markdown",
      "source": [
        "Although the workings of the FCM algorithm are almost identical to those of the K-means clustering algorithm, the main difference is that a data point can be placed in more than one cluster.[1]"
      ],
      "metadata": {
        "id": "3kysq3vYqly2"
      }
    },
    {
      "cell_type": "markdown",
      "source": [
        "## **Density-Based Spatial Clustering:**"
      ],
      "metadata": {
        "id": "d4eBNJDNqvkU"
      }
    },
    {
      "cell_type": "markdown",
      "source": [
        "Suitable for application requiring non-linear structures for clustering, solely based on density.[1]"
      ],
      "metadata": {
        "id": "wxo4IqN7q1vl"
      }
    },
    {
      "cell_type": "code",
      "execution_count": null,
      "metadata": {
        "id": "ba_p8nLdQBSL"
      },
      "outputs": [],
      "source": []
    },
    {
      "cell_type": "markdown",
      "source": [
        "# **References**"
      ],
      "metadata": {
        "id": "YDskRHx_QIhQ"
      }
    },
    {
      "cell_type": "markdown",
      "source": [
        "[1-Detailed Introduction To K-Means Clustering In Python](https://usernamejack.medium.com/detailed-introduction-to-k-means-clustering-in-python-d8178d7eb123)\n",
        "\n",
        "[2-K-Means Clustering in Machine Learning](https://thecleverprogrammer.com/2021/02/16/k-means-clustering-in-machine-learning/)\n",
        "\n",
        "[3-DBSCAN Clustering in Machine Learning](https://thecleverprogrammer.com/2021/02/03/dbscan-clustering-in-machine-learning/)\n",
        "\n",
        "[4-Agglomerative Clustering using Python](https://thecleverprogrammer.com/2021/08/11/agglomerative-clustering-in-machine-learning/)\n",
        "\n",
        "[5- BIRCH Clustering in Machine Learning](https://thecleverprogrammer.com/2021/03/15/birch-clustering-in-machine-learning/)\n",
        "\n",
        "[6-Mean Shift Clustering in Machine Learning](https://thecleverprogrammer.com/2021/09/29/mean-shift-clustering-in-machine-learning/)\n",
        "\n",
        "[7-Hierarchical Clustering in Python](https://medium.com/swlh/hierarchical-clustering-in-python-9646cfddee35)\n",
        "\n",
        "[8-Fully Explained DBScan Clustering Algorithm with Python](https://pub.towardsai.net/fully-explained-dbscan-clustering-algorithm-with-python-a568139ebff5)\n",
        "\n",
        "[9-Fully Explained Hierarchical Clustering with Python](https://pub.towardsai.net/fully-explained-hierarchical-clustering-with-python-ebb256317b50)"
      ],
      "metadata": {
        "id": "-va5nbXYQOLe"
      }
    }
  ]
}